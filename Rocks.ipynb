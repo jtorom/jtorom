{
  "cells": [
    {
      "cell_type": "markdown",
      "metadata": {
        "id": "view-in-github",
        "colab_type": "text"
      },
      "source": [
        "<a href=\"https://colab.research.google.com/github/jtorom/jtorom/blob/develop/Rocks.ipynb\" target=\"_parent\"><img src=\"https://colab.research.google.com/assets/colab-badge.svg\" alt=\"Open In Colab\"/></a>"
      ]
    },
    {
      "cell_type": "code",
      "execution_count": null,
      "metadata": {
        "id": "7pazf5Acipyn"
      },
      "outputs": [],
      "source": [
        "# Importaci n Libreria de Google Drive\n",
        "from google.colab import drive\n",
        "#Acceso al directorio de Drive\n",
        "drive.mount('/content/drive')\n",
        "import os\n",
        "os.chdir('/content/drive/MyDrive/Colab Notebooks/WorkspaceTesis')\n",
        "#Descarga de las librerias de Mask RCNN de matterport\n",
        "#!git clone https://github.com/matterport/Mask_RCNN\n",
        "if not os.path.exists('/content/drive/MyDrive/Colab Notebooks/WorkspaceTesis/Mask-RCNN'):\n",
        "  !git clone https://github.com/masc-it/Mask-RCNN.git\n"
      ]
    },
    {
      "cell_type": "code",
      "execution_count": null,
      "metadata": {
        "id": "Q3k2jsKojOMk"
      },
      "outputs": [],
      "source": [
        "%cd Mask-RCNN\n",
        "!pip list\n",
        "!pip3 install -r requirements.txt\n",
        "!python3 setup.py install"
      ]
    },
    {
      "cell_type": "code",
      "execution_count": null,
      "metadata": {
        "id": "V1QysL5qjvdg"
      },
      "outputs": [],
      "source": [
        "#Descarga de la matriz de pesos COCO.h5\n",
        "if not os.path.exists('/content/drive/MyDrive/Colab Notebooks/WorkspaceTesis/Mask-RCNN/cocoapi'):\n",
        "  !git clone https://github.com/cocodataset/cocoapi.git\n",
        "%cd cocoapi/PythonAPI\n",
        "!make\n",
        "%cd ../../\n"
      ]
    },
    {
      "cell_type": "code",
      "execution_count": null,
      "metadata": {
        "id": "APCwEcjtjv4Z"
      },
      "outputs": [],
      "source": [
        "import tensorflow as tf\n",
        "gpus = tf.config.experimental.list_physical_devices('GPU')\n",
        "if gpus:\n",
        "  try:\n",
        "    for gpu in gpus:\n",
        "      tf.config.experimental.set_memory_growth(gpu, True)\n",
        "  except RuntimeError as e:\n",
        "    print(e)\n",
        "\n",
        "\n",
        "\n"
      ]
    },
    {
      "cell_type": "code",
      "execution_count": null,
      "metadata": {
        "id": "loag5rwvRa6r"
      },
      "outputs": [],
      "source": [
        "import skimage as ski\n",
        "print(ski.__version__)\n",
        "\n",
        "if not (ski.__version__==\"0.16.2\"):\n",
        "  !pip uninstall --yes scikit-image\n",
        "  !pip install scikit-image==0.16.2\n",
        "  #os.kill(os.getpid(), 9)"
      ]
    },
    {
      "cell_type": "code",
      "execution_count": null,
      "metadata": {
        "id": "1psDT_o_kBa-"
      },
      "outputs": [],
      "source": [
        "\n",
        "import numpy as np\n",
        "import pandas as pd\n",
        "import time\n",
        "from sklearn.model_selection import train_test_split\n",
        "import matplotlib.pyplot as plt\n",
        "from matplotlib.pyplot import imshow\n",
        "import os\n",
        "import cv2\n",
        "import os\n",
        "import sys\n",
        "import random\n",
        "import math\n",
        "import re\n",
        "import time\n",
        "import numpy as np\n",
        "import cv2\n",
        "import matplotlib\n",
        "import matplotlib.pyplot as plt\n",
        "import json\n",
        "import imgaug\n",
        "import tensorflow as tf\n",
        "import numpy as np\n",
        "from tensorflow import keras\n",
        "from tensorflow.keras import backend as K\n",
        "from tensorflow.keras.layers import Dense, Activation,Dropout,Conv2D, MaxPooling2D,BatchNormalization\n",
        "from tensorflow.keras.optimizers import Adam, Adamax\n",
        "from tensorflow.keras.metrics import categorical_crossentropy\n",
        "from tensorflow.keras import regularizers\n",
        "from tensorflow.keras.preprocessing.image import ImageDataGenerator\n",
        "from tensorflow.keras.models import Model, load_model, Sequential\n",
        "from sklearn.metrics import confusion_matrix, classification_report\n",
        "from tensorflow.keras.layers import Dense,Flatten , Conv2D , MaxPooling2D , Dropout\n",
        "from tensorflow.keras.models import Model , Sequential\n",
        "from tensorflow.keras.layers.experimental.preprocessing import Rescaling\n",
        "from tensorflow.keras.callbacks import EarlyStopping\n",
        "from tensorflow.keras.preprocessing import image_dataset_from_directory\n",
        "from tensorflow.keras.applications.resnet50 import preprocess_input, decode_predictions\n"
      ]
    },
    {
      "cell_type": "code",
      "execution_count": null,
      "metadata": {
        "id": "j6dkz8S4kMhW"
      },
      "outputs": [],
      "source": [
        "ROOT_DIR = os.path.abspath('/content/drive/MyDrive/Colab Notebooks/WorkspaceTesis')\n",
        "\n",
        "sys.path.append(ROOT_DIR)"
      ]
    },
    {
      "cell_type": "code",
      "execution_count": null,
      "metadata": {
        "id": "gQK0gThsksPX"
      },
      "outputs": [],
      "source": [
        "os.chdir('/content/drive/MyDrive/Colab Notebooks/WorkspaceTesis/Mask-RCNN/')\n",
        "from mrcnn.config import Config\n",
        "from mrcnn import utils\n",
        "os.chdir('/content/drive/MyDrive/Colab Notebooks/WorkspaceTesis/Mask-RCNN/mrcnn/')\n",
        "import mrcnn.model as modellib\n",
        "from mrcnn import visualize\n",
        "from mrcnn.model import log\n",
        "%matplotlib inline"
      ]
    },
    {
      "cell_type": "code",
      "execution_count": null,
      "metadata": {
        "id": "P_zrT4h5n-0Q"
      },
      "outputs": [],
      "source": [
        "# Directorio donde se guaradaran los logs y los modelos de entrenamiento [en root dir- logs]\n",
        "MODEL_DIR = os.path.abspath('/content/drive/MyDrive/Colab Notebooks/WorkspaceTesis/logs')\n",
        "# Directorio donde se guardara el archivo de pesos COCO.h5\n",
        "COCO_MODEL_PATH = os.path.abspath('/content/drive/MyDrive/Colab Notebooks/WorkspaceTesis/logs/mask_rcnn_coco.h5')\n"
      ]
    },
    {
      "cell_type": "code",
      "execution_count": null,
      "metadata": {
        "id": "bKoQ_sI7oKIV"
      },
      "outputs": [],
      "source": [
        "# Se comprueba que se haya descargado correctamente el archivo COCO.h5\n",
        "if os.path.exists(os.path.join(COCO_MODEL_PATH)):\n",
        "  print(\"coco model exist\")\n",
        "%cd /content/drive/MyDrive/Colab Notebooks/WorkspaceTesis\n",
        "!ls"
      ]
    },
    {
      "cell_type": "code",
      "execution_count": null,
      "metadata": {
        "id": "YxlhhjMWorKz"
      },
      "outputs": [],
      "source": [
        "from tensorflow.compat.v1 import ConfigProto\n",
        "from tensorflow.compat.v1 import InteractiveSession\n",
        "DATA_DIR = os.path.abspath('/content/drive/MyDrive/Colab Notebooks/WorkspaceTesis/data/')"
      ]
    },
    {
      "cell_type": "code",
      "execution_count": null,
      "metadata": {
        "id": "agD4QrTtpCXy"
      },
      "outputs": [],
      "source": [
        "#Craci n de los directorios de validaci n , test y train\n",
        "os.chdir('/content/drive/MyDrive/Colab Notebooks/WorkspaceTesis/data/')\n",
        "DATASET_TRAIN_DIR=os.path.join(DATA_DIR,'Train')\n",
        "DATASET_VAL_DIR=os.path.join(DATA_DIR,'Validation')\n",
        "DATASET_TEST_DIR=os.path.join(DATA_DIR,'Test')\n",
        "\n",
        "\n",
        "#Crea com una configuraci n a partir de tensorflow, ConfigProto()\n",
        "config = ConfigProto()\n",
        "config.gpu_options.allow_growth = True\n",
        "session = InteractiveSession(config=config)\n",
        "\n"
      ]
    },
    {
      "cell_type": "code",
      "execution_count": null,
      "metadata": {
        "id": "fWxDDPoIZBKQ"
      },
      "outputs": [],
      "source": [
        "path='/content/drive/MyDrive/Colab Notebooks/WorkspaceTesis/data/Train'\n",
        "imageSize = [350, 536]\n",
        "def ajustarTamano(path):\n",
        "  os.chdir(path)\n",
        "  for i,f in enumerate(os.listdir('.')):\n",
        "\n",
        "    file_name, file_extension = os.path.splitext(f)\n",
        "    #print(file_extension)\n",
        "    if os.path.isfile(f) and file_extension=='.jpg':\n",
        "\n",
        "      image_path_jpg = f\n",
        "      #print(image_path_jpg)\n",
        "      img = tf.io.read_file(image_path_jpg)\n",
        "      #print(img.get_shape().as_list()) # []\n",
        "      img = tf.image.decode_jpeg(img)\n",
        "      #print(img.get_shape().as_list())\n",
        "      img_resized = tf.image.resize(img, (imageSize))\n",
        "      img_resized = img_resized.eval(session=session)\n",
        "      #print(type(img_resized))\n",
        "      img_resized_tensor = tf.reshape(img_resized, [imageSize[0], imageSize[1],1] )\n",
        "      img_resized = img_resized_tensor.eval(session=session)\n",
        "      cv2.imwrite(f, img_resized)\n",
        "\n",
        "path='/content/drive/MyDrive/Colab Notebooks/WorkspaceTesis/data/Train'\n",
        "ajustarTamano(path)\n",
        "path='/content/drive/MyDrive/Colab Notebooks/WorkspaceTesis/data/Test'\n",
        "ajustarTamano(path)\n",
        "path='/content/drive/MyDrive/Colab Notebooks/WorkspaceTesis/data/Validation'\n",
        "ajustarTamano(path)"
      ]
    },
    {
      "cell_type": "code",
      "execution_count": null,
      "metadata": {
        "id": "44v4WNsApwIn"
      },
      "outputs": [],
      "source": [
        "#Creaci n de las clases partiendo de config\n",
        "class Rocks(Config):\n",
        "  # Definici n de la clase general\n",
        "  NAME =\"rock\"\n",
        "  # Se ajusta n mero de imagenes a cada GPU.\n",
        "  IMAGES_PER_GPU = 2\n",
        "  # Defino n m e r o de clases incluyendo el background\n",
        "  NUM_CLASSES = 2 #Background + rock\"\n",
        "  # Numero de steps por cada epoca\n",
        "  STEPS_PER_EPOCH = 10 # Se pone el mismo n mero de imagenes que hay en la carpeta Train\n",
        "  # Precisi n del sistema (en el proceso de validaci n)\n",
        "  DETECTION_MIN_CONFIDENCE = 0.75\n",
        "  # MiniMask\n",
        "  USE_MINI_MASK = True\n",
        "  #imageSize = [536, 350]\n",
        "  IMAGE_SHAPE = imageSize\n",
        "  BATCH_SIZE =10\n",
        "  LEARNING_RATE=0.005"
      ]
    },
    {
      "cell_type": "code",
      "execution_count": null,
      "metadata": {
        "id": "RAJGJeDoqGrm"
      },
      "outputs": [],
      "source": [
        "config = Rocks()\n",
        "config.display()"
      ]
    },
    {
      "cell_type": "code",
      "execution_count": null,
      "metadata": {
        "id": "FuUTgyO_qLxa"
      },
      "outputs": [],
      "source": [
        "from PIL import Image,ImageDraw\n",
        "axis_Width = 15"
      ]
    },
    {
      "cell_type": "code",
      "execution_count": null,
      "metadata": {
        "id": "xZbDlkXYqQzW"
      },
      "outputs": [],
      "source": [
        "#Hereda de la clase Dataset en el fichero utils.\n",
        "class RocksDataset(utils.Dataset):\n",
        "\n",
        "  def load_dataset(self, dataset_dir):\n",
        "\n",
        "    self.add_class('dataset', 1, 'rock')\n",
        "\n",
        "    for i, filename in enumerate(os.listdir(dataset_dir)):\n",
        "      annotation_file = os.path.join(dataset_dir , filename.replace('.jpg', '.json'))\n",
        "      if '.jpg' in filename and os.path.isfile(annotation_file):\n",
        "        self.add_image('dataset',image_id=i,path=os.path.join(dataset_dir , filename),annotation=annotation_file)\n",
        "\n",
        "  def extract_masks(self, filename):\n",
        "    json_file = os.path.join(filename) #Devuelve el nombre del fichero con string->’.\n",
        "    with open(json_file) as f:\n",
        "      img_anns = json.load(f)\n",
        "    n_masks = 0\n",
        "    for anno in img_anns['shapes']:\n",
        "      if anno['label']=='rock':\n",
        "        n_masks+=1#\n",
        "    masks = np.zeros([img_anns['imageHeight'], img_anns['imageWidth'], n_masks], dtype='uint8')\n",
        "    classes = []#\n",
        "    i=0\n",
        "    for anno in img_anns['shapes']:\n",
        "      if anno['label']=='rock':\n",
        "        mask = np.zeros([img_anns['imageHeight'], img_anns['imageWidth']], dtype=np.uint8)\n",
        "        cv2.fillPoly(mask, np.array([anno['points']], dtype=np.int32), 1)\n",
        "        masks[:, :, i] = mask\n",
        "        classes.append(self.class_names.index(anno['label']))\n",
        "        i+=1\n",
        "    return masks , classes\n",
        "\n",
        "  # Carga las m scaras para una imagen\n",
        "  def load_mask(self, image_id):\n",
        "    info = self.image_info[image_id]\n",
        "    path = info['annotation']\n",
        "    masks, classes = self.extract_masks(path)\n",
        "    return masks, np.asarray(classes, dtype='int32')\n",
        "\n",
        "  def image_reference(self, image_id):\n",
        "    info = self.image_info[image_id]\n",
        "    return info['path']\n",
        "\n",
        "\n"
      ]
    },
    {
      "cell_type": "code",
      "execution_count": null,
      "metadata": {
        "id": "DmdvkQ48sc4j"
      },
      "outputs": [],
      "source": [
        "dataset_train = RocksDataset()\n",
        "dataset_train.load_dataset(DATASET_TRAIN_DIR)\n",
        "dataset_train.prepare()\n"
      ]
    },
    {
      "cell_type": "code",
      "execution_count": null,
      "metadata": {
        "id": "VdLHuL0PtooN"
      },
      "outputs": [],
      "source": [
        "#Para comprobar que las imagenes se han cargado bien\n",
        "print(\"Image Count: {}\".format(len(dataset_train.image_ids)))\n",
        "print(\"Class Count: {}\".format(dataset_train.num_classes))\n",
        "for i, info in enumerate(dataset_train.class_info):\n",
        "  print(\"{:3}. {:50}\".format(i, info['name']))\n"
      ]
    },
    {
      "cell_type": "code",
      "execution_count": null,
      "metadata": {
        "id": "OcyQ209et1_6"
      },
      "outputs": [],
      "source": [
        "# Validation set\n",
        "dataset_val = RocksDataset()\n",
        "dataset_val.load_dataset(DATASET_VAL_DIR)\n",
        "dataset_val.prepare()"
      ]
    },
    {
      "cell_type": "code",
      "execution_count": null,
      "metadata": {
        "id": "MyQNTpPjuFqB"
      },
      "outputs": [],
      "source": [
        "#Para comprobar que las imagenes se han cargado bien\n",
        "print(\"Image Count: {}\".format(len(dataset_val.image_ids)))\n",
        "print(\"Class Count: {}\".format(dataset_val.num_classes))\n",
        "for i, info in enumerate(dataset_val.class_info):\n",
        "  print(\"{:3}. {:50}\".format(i, info['name']))"
      ]
    },
    {
      "cell_type": "code",
      "execution_count": null,
      "metadata": {
        "id": "Tk0nIm0_uPDJ"
      },
      "outputs": [],
      "source": [
        "#Test set\n",
        "dataset_test = RocksDataset()\n",
        "dataset_test.load_dataset(DATASET_TEST_DIR)\n",
        "dataset_test.prepare()\n",
        "print('Test: %d images' % len(dataset_test.image_ids))"
      ]
    },
    {
      "cell_type": "code",
      "execution_count": null,
      "metadata": {
        "id": "rsvNKmc8udCX"
      },
      "outputs": [],
      "source": [
        "#Para comprobar que las imagenes se han cargado bien\n",
        "print(\"Image Count: {}\".format(len(dataset_test.image_ids)))\n",
        "print(\"Class Count: {}\".format(dataset_test.num_classes))\n",
        "for i, info in enumerate(dataset_test.class_info):\n",
        "  print(\"{:3}. {:50}\".format(i, info['name']))\n"
      ]
    },
    {
      "cell_type": "code",
      "execution_count": null,
      "metadata": {
        "id": "CA_ug0ghum7g"
      },
      "outputs": [],
      "source": [
        "#Selecciona 5 im genes aleatorias i las visualiza con sus correspondientes m scaras\n",
        "image_ids=np.random.choice(dataset_train.image_ids,5)\n",
        "for image_id in image_ids:\n",
        "  image = dataset_train.load_image(image_id)\n",
        "  mask, class_ids = dataset_train.load_mask(image_id)\n",
        "  visualize.display_top_masks(image, mask, class_ids, dataset_train.class_names,2)\n",
        "\n",
        "\n",
        "\n"
      ]
    },
    {
      "cell_type": "code",
      "execution_count": null,
      "metadata": {
        "id": "HsAwKtvqwOIl"
      },
      "outputs": [],
      "source": [
        "# Crea el modelo del tarining mode\n",
        "model = modellib.MaskRCNN(mode=\"training\", config=config , model_dir=MODEL_DIR)\n",
        "#model.find_last()"
      ]
    },
    {
      "cell_type": "code",
      "execution_count": null,
      "metadata": {
        "id": "UTva61AVwdQ9"
      },
      "outputs": [],
      "source": [
        "#Selecci n de las matrices de peso (coco o la ltima conseguida)\n",
        "init_with = \"coco\""
      ]
    },
    {
      "cell_type": "code",
      "execution_count": null,
      "metadata": {
        "id": "S7SH5gFVwj8n"
      },
      "outputs": [],
      "source": [
        "if init_with == \"imagenet\":\n",
        "  model.load_weights(model.get_imagenet_weights(), by_name=True)\n",
        "elif init_with == \"coco\":\n",
        "  #Excluyo par metros que no me interesan\n",
        "  model.load_weights(COCO_MODEL_PATH, by_name=True,exclude=[\"mrcnn_class_logits\", \"mrcnn_bbox_fc\", \"mrcnn_bbox\", \"mrcnn_mask\"])\n",
        "elif init_with == \"last\":\n",
        "  model.load_weights(model.find_last(), by_name=True)\n",
        "  !pip list\n"
      ]
    },
    {
      "cell_type": "code",
      "execution_count": null,
      "metadata": {
        "id": "YONxiLsdxWpq"
      },
      "outputs": [],
      "source": [
        "Rock_augmentation = imgaug.augmenters.Sometimes(0.8,[imgaug.augmenters.geometric.Affine(rotate=(-360,360))])\n"
      ]
    },
    {
      "cell_type": "code",
      "execution_count": null,
      "metadata": {
        "colab": {
          "base_uri": "https://localhost:8080/"
        },
        "id": "6D7QT9xIxfYA",
        "outputId": "9ea4427f-5d6a-4738-8042-e050e202f2e7"
      },
      "outputs": [
        {
          "metadata": {
            "tags": null
          },
          "name": "stdout",
          "output_type": "stream",
          "text": [
            "\n",
            "Starting at epoch 0. LR=0.005\n",
            "\n",
            "Checkpoint Path: /content/drive/MyDrive/Colab Notebooks/WorkspaceTesis/logs/rock20231118T0258/mask_rcnn_rock_{epoch:04d}.h5\n",
            "Selecting layers to train\n",
            "fpn_c5p5               (Conv2D)\n",
            "fpn_c4p4               (Conv2D)\n",
            "fpn_c3p3               (Conv2D)\n",
            "fpn_c2p2               (Conv2D)\n",
            "fpn_p5                 (Conv2D)\n",
            "fpn_p2                 (Conv2D)\n",
            "fpn_p3                 (Conv2D)\n",
            "fpn_p4                 (Conv2D)\n",
            "rpn_model              (Functional)\n",
            "mrcnn_mask_conv1       (TimeDistributed)\n",
            "mrcnn_mask_bn1         (TimeDistributed)\n",
            "mrcnn_mask_conv2       (TimeDistributed)\n",
            "mrcnn_mask_bn2         (TimeDistributed)\n",
            "mrcnn_class_conv1      (TimeDistributed)\n",
            "mrcnn_class_bn1        (TimeDistributed)\n",
            "mrcnn_mask_conv3       (TimeDistributed)\n",
            "mrcnn_mask_bn3         (TimeDistributed)\n",
            "mrcnn_class_conv2      (TimeDistributed)\n",
            "mrcnn_class_bn2        (TimeDistributed)\n",
            "mrcnn_mask_conv4       (TimeDistributed)\n",
            "mrcnn_mask_bn4         (TimeDistributed)\n",
            "mrcnn_bbox_fc          (TimeDistributed)\n",
            "mrcnn_mask_deconv      (TimeDistributed)\n",
            "mrcnn_class_logits     (TimeDistributed)\n",
            "mrcnn_mask             (TimeDistributed)\n"
          ]
        },
        {
          "metadata": {
            "tags": null
          },
          "name": "stderr",
          "output_type": "stream",
          "text": [
            "/usr/local/lib/python3.10/dist-packages/keras/src/optimizers/legacy/gradient_descent.py:114: UserWarning: The `lr` argument is deprecated, use `learning_rate` instead.\n",
            "  super().__init__(name, **kwargs)\n"
          ]
        },
        {
          "metadata": {
            "tags": null
          },
          "name": "stdout",
          "output_type": "stream",
          "text": [
            "Workers\n",
            "8\n",
            "{'id': 33, 'source': 'dataset', 'path': '/content/drive/MyDrive/Colab Notebooks/WorkspaceTesis/data/Train/SH04_20220414_110036.jpg', 'annotation': '/content/drive/MyDrive/Colab Notebooks/WorkspaceTesis/data/Train/SH04_20220414_110036.json'}{'id': 33, 'source': 'dataset', 'path': '/content/drive/MyDrive/Colab Notebooks/WorkspaceTesis/data/Train/SH04_20220414_110036.jpg', 'annotation': '/content/drive/MyDrive/Colab Notebooks/WorkspaceTesis/data/Train/SH04_20220414_110036.json'}{'id': 33, 'source': 'dataset', 'path': '/content/drive/MyDrive/Colab Notebooks/WorkspaceTesis/data/Train/SH04_20220414_110036.jpg', 'annotation': '/content/drive/MyDrive/Colab Notebooks/WorkspaceTesis/data/Train/SH04_20220414_110036.json'}{'id': 33, 'source': 'dataset', 'path': '/content/drive/MyDrive/Colab Notebooks/WorkspaceTesis/data/Train/SH04_20220414_110036.jpg', 'annotation': '/content/drive/MyDrive/Colab Notebooks/WorkspaceTesis/data/Train/SH04_20220414_110036.json'}{'id': 33, 'source': 'dataset', 'path': '/content/drive/MyDrive/Colab Notebooks/WorkspaceTesis/data/Train/SH04_20220414_110036.jpg', 'annotation': '/content/drive/MyDrive/Colab Notebooks/WorkspaceTesis/data/Train/SH04_20220414_110036.json'}{'id': 33, 'source': 'dataset', 'path': '/content/drive/MyDrive/Colab Notebooks/WorkspaceTesis/data/Train/SH04_20220414_110036.jpg', 'annotation': '/content/drive/MyDrive/Colab Notebooks/WorkspaceTesis/data/Train/SH04_20220414_110036.json'}\n",
            "{'id': 33, 'source': 'dataset', 'path': '/content/drive/MyDrive/Colab Notebooks/WorkspaceTesis/data/Train/SH04_20220414_110036.jpg', 'annotation': '/content/drive/MyDrive/Colab Notebooks/WorkspaceTesis/data/Train/SH04_20220414_110036.json'}\n",
            "\n",
            "{'id': 33, 'source': 'dataset', 'path': '/content/drive/MyDrive/Colab Notebooks/WorkspaceTesis/data/Train/SH04_20220414_110036.jpg', 'annotation': '/content/drive/MyDrive/Colab Notebooks/WorkspaceTesis/data/Train/SH04_20220414_110036.json'}\n",
            "\n",
            "\n",
            "\n",
            "\n",
            "Epoch 1/6\n"
          ]
        },
        {
          "metadata": {
            "tags": null
          },
          "name": "stderr",
          "output_type": "stream",
          "text": [
            "/usr/local/lib/python3.10/dist-packages/imgaug/augmenters/base.py:49: SuspiciousSingleImageShapeWarning: You provided a numpy array of shape (1084, 1072, 214) as a single-image augmentation input, which was interpreted as (H, W, C). The last dimension however has a size of >=32, which indicates that you provided a multi-image array with shape (N, H, W) instead. If that is the case, you should use e.g. augmenter(imageS=<your input>) or augment_imageS(<your input>). Otherwise your multi-image input will be interpreted as a single image during augmentation.\n",
            "  ia.warn(\n",
            "/usr/local/lib/python3.10/dist-packages/imgaug/augmenters/base.py:49: SuspiciousSingleImageShapeWarning: You provided a numpy array of shape (1084, 1072, 214) as a single-image augmentation input, which was interpreted as (H, W, C). The last dimension however has a size of >=32, which indicates that you provided a multi-image array with shape (N, H, W) instead. If that is the case, you should use e.g. augmenter(imageS=<your input>) or augment_imageS(<your input>). Otherwise your multi-image input will be interpreted as a single image during augmentation.\n",
            "  ia.warn(\n",
            "/usr/local/lib/python3.10/dist-packages/imgaug/augmenters/base.py:49: SuspiciousSingleImageShapeWarning: You provided a numpy array of shape (1084, 1072, 214) as a single-image augmentation input, which was interpreted as (H, W, C). The last dimension however has a size of >=32, which indicates that you provided a multi-image array with shape (N, H, W) instead. If that is the case, you should use e.g. augmenter(imageS=<your input>) or augment_imageS(<your input>). Otherwise your multi-image input will be interpreted as a single image during augmentation.\n",
            "  ia.warn(\n",
            "/usr/local/lib/python3.10/dist-packages/imgaug/augmenters/base.py:49: SuspiciousSingleImageShapeWarning: You provided a numpy array of shape (1084, 1072, 214) as a single-image augmentation input, which was interpreted as (H, W, C). The last dimension however has a size of >=32, which indicates that you provided a multi-image array with shape (N, H, W) instead. If that is the case, you should use e.g. augmenter(imageS=<your input>) or augment_imageS(<your input>). Otherwise your multi-image input will be interpreted as a single image during augmentation.\n",
            "  ia.warn(\n",
            "/usr/local/lib/python3.10/dist-packages/imgaug/augmenters/base.py:49: SuspiciousSingleImageShapeWarning: You provided a numpy array of shape (1084, 1072, 214) as a single-image augmentation input, which was interpreted as (H, W, C). The last dimension however has a size of >=32, which indicates that you provided a multi-image array with shape (N, H, W) instead. If that is the case, you should use e.g. augmenter(imageS=<your input>) or augment_imageS(<your input>). Otherwise your multi-image input will be interpreted as a single image during augmentation.\n",
            "  ia.warn(\n",
            "/usr/local/lib/python3.10/dist-packages/imgaug/augmenters/base.py:49: SuspiciousSingleImageShapeWarning: You provided a numpy array of shape (1084, 1072, 214) as a single-image augmentation input, which was interpreted as (H, W, C). The last dimension however has a size of >=32, which indicates that you provided a multi-image array with shape (N, H, W) instead. If that is the case, you should use e.g. augmenter(imageS=<your input>) or augment_imageS(<your input>). Otherwise your multi-image input will be interpreted as a single image during augmentation.\n",
            "  ia.warn(\n",
            "/usr/local/lib/python3.10/dist-packages/imgaug/augmenters/base.py:49: SuspiciousSingleImageShapeWarning: You provided a numpy array of shape (1084, 1072, 214) as a single-image augmentation input, which was interpreted as (H, W, C). The last dimension however has a size of >=32, which indicates that you provided a multi-image array with shape (N, H, W) instead. If that is the case, you should use e.g. augmenter(imageS=<your input>) or augment_imageS(<your input>). Otherwise your multi-image input will be interpreted as a single image during augmentation.\n",
            "  ia.warn(\n",
            "/usr/local/lib/python3.10/dist-packages/imgaug/augmenters/base.py:49: SuspiciousSingleImageShapeWarning: You provided a numpy array of shape (1084, 1072, 214) as a single-image augmentation input, which was interpreted as (H, W, C). The last dimension however has a size of >=32, which indicates that you provided a multi-image array with shape (N, H, W) instead. If that is the case, you should use e.g. augmenter(imageS=<your input>) or augment_imageS(<your input>). Otherwise your multi-image input will be interpreted as a single image during augmentation.\n",
            "  ia.warn(\n"
          ]
        },
        {
          "metadata": {
            "tags": null
          },
          "name": "stdout",
          "output_type": "stream",
          "text": [
            "{'id': 61, 'source': 'dataset', 'path': '/content/drive/MyDrive/Colab Notebooks/WorkspaceTesis/data/Train/SH04_20220413_095737.jpg', 'annotation': '/content/drive/MyDrive/Colab Notebooks/WorkspaceTesis/data/Train/SH04_20220413_095737.json'}\n",
            "{'id': 61, 'source': 'dataset', 'path': '/content/drive/MyDrive/Colab Notebooks/WorkspaceTesis/data/Train/SH04_20220413_095737.jpg', 'annotation': '/content/drive/MyDrive/Colab Notebooks/WorkspaceTesis/data/Train/SH04_20220413_095737.json'}\n",
            "{'id': 61, 'source': 'dataset', 'path': '/content/drive/MyDrive/Colab Notebooks/WorkspaceTesis/data/Train/SH04_20220413_095737.jpg', 'annotation': '/content/drive/MyDrive/Colab Notebooks/WorkspaceTesis/data/Train/SH04_20220413_095737.json'}\n",
            "{'id': 61, 'source': 'dataset', 'path': '/content/drive/MyDrive/Colab Notebooks/WorkspaceTesis/data/Train/SH04_20220413_095737.jpg', 'annotation': '/content/drive/MyDrive/Colab Notebooks/WorkspaceTesis/data/Train/SH04_20220413_095737.json'}\n",
            "{'id': 61, 'source': 'dataset', 'path': '/content/drive/MyDrive/Colab Notebooks/WorkspaceTesis/data/Train/SH04_20220413_095737.jpg', 'annotation': '/content/drive/MyDrive/Colab Notebooks/WorkspaceTesis/data/Train/SH04_20220413_095737.json'}\n",
            "{'id': 61, 'source': 'dataset', 'path': '/content/drive/MyDrive/Colab Notebooks/WorkspaceTesis/data/Train/SH04_20220413_095737.jpg', 'annotation': '/content/drive/MyDrive/Colab Notebooks/WorkspaceTesis/data/Train/SH04_20220413_095737.json'}\n",
            "{'id': 61, 'source': 'dataset', 'path': '/content/drive/MyDrive/Colab Notebooks/WorkspaceTesis/data/Train/SH04_20220413_095737.jpg', 'annotation': '/content/drive/MyDrive/Colab Notebooks/WorkspaceTesis/data/Train/SH04_20220413_095737.json'}{'id': 61, 'source': 'dataset', 'path': '/content/drive/MyDrive/Colab Notebooks/WorkspaceTesis/data/Train/SH04_20220413_095737.jpg', 'annotation': '/content/drive/MyDrive/Colab Notebooks/WorkspaceTesis/data/Train/SH04_20220413_095737.json'}\n",
            "\n"
          ]
        },
        {
          "metadata": {
            "tags": null
          },
          "name": "stderr",
          "output_type": "stream",
          "text": [
            "/usr/local/lib/python3.10/dist-packages/imgaug/augmenters/base.py:49: SuspiciousSingleImageShapeWarning: You provided a numpy array of shape (1084, 1072, 64) as a single-image augmentation input, which was interpreted as (H, W, C). The last dimension however has a size of >=32, which indicates that you provided a multi-image array with shape (N, H, W) instead. If that is the case, you should use e.g. augmenter(imageS=<your input>) or augment_imageS(<your input>). Otherwise your multi-image input will be interpreted as a single image during augmentation.\n",
            "  ia.warn(\n",
            "/usr/local/lib/python3.10/dist-packages/imgaug/augmenters/base.py:49: SuspiciousSingleImageShapeWarning: You provided a numpy array of shape (1084, 1072, 64) as a single-image augmentation input, which was interpreted as (H, W, C). The last dimension however has a size of >=32, which indicates that you provided a multi-image array with shape (N, H, W) instead. If that is the case, you should use e.g. augmenter(imageS=<your input>) or augment_imageS(<your input>). Otherwise your multi-image input will be interpreted as a single image during augmentation.\n",
            "  ia.warn(\n",
            "/usr/local/lib/python3.10/dist-packages/imgaug/augmenters/base.py:49: SuspiciousSingleImageShapeWarning: You provided a numpy array of shape (1084, 1072, 64) as a single-image augmentation input, which was interpreted as (H, W, C). The last dimension however has a size of >=32, which indicates that you provided a multi-image array with shape (N, H, W) instead. If that is the case, you should use e.g. augmenter(imageS=<your input>) or augment_imageS(<your input>). Otherwise your multi-image input will be interpreted as a single image during augmentation.\n",
            "  ia.warn(\n",
            "/usr/local/lib/python3.10/dist-packages/imgaug/augmenters/base.py:49: SuspiciousSingleImageShapeWarning: You provided a numpy array of shape (1084, 1072, 64) as a single-image augmentation input, which was interpreted as (H, W, C). The last dimension however has a size of >=32, which indicates that you provided a multi-image array with shape (N, H, W) instead. If that is the case, you should use e.g. augmenter(imageS=<your input>) or augment_imageS(<your input>). Otherwise your multi-image input will be interpreted as a single image during augmentation.\n",
            "  ia.warn(\n",
            "/usr/local/lib/python3.10/dist-packages/imgaug/augmenters/base.py:49: SuspiciousSingleImageShapeWarning: You provided a numpy array of shape (1084, 1072, 64) as a single-image augmentation input, which was interpreted as (H, W, C). The last dimension however has a size of >=32, which indicates that you provided a multi-image array with shape (N, H, W) instead. If that is the case, you should use e.g. augmenter(imageS=<your input>) or augment_imageS(<your input>). Otherwise your multi-image input will be interpreted as a single image during augmentation.\n",
            "  ia.warn(\n",
            "/usr/local/lib/python3.10/dist-packages/imgaug/augmenters/base.py:49: SuspiciousSingleImageShapeWarning: You provided a numpy array of shape (1084, 1072, 64) as a single-image augmentation input, which was interpreted as (H, W, C). The last dimension however has a size of >=32, which indicates that you provided a multi-image array with shape (N, H, W) instead. If that is the case, you should use e.g. augmenter(imageS=<your input>) or augment_imageS(<your input>). Otherwise your multi-image input will be interpreted as a single image during augmentation.\n",
            "  ia.warn(\n",
            "/usr/local/lib/python3.10/dist-packages/imgaug/augmenters/base.py:49: SuspiciousSingleImageShapeWarning: You provided a numpy array of shape (1084, 1072, 64) as a single-image augmentation input, which was interpreted as (H, W, C). The last dimension however has a size of >=32, which indicates that you provided a multi-image array with shape (N, H, W) instead. If that is the case, you should use e.g. augmenter(imageS=<your input>) or augment_imageS(<your input>). Otherwise your multi-image input will be interpreted as a single image during augmentation.\n",
            "  ia.warn(\n",
            "/usr/local/lib/python3.10/dist-packages/imgaug/augmenters/base.py:49: SuspiciousSingleImageShapeWarning: You provided a numpy array of shape (1084, 1072, 64) as a single-image augmentation input, which was interpreted as (H, W, C). The last dimension however has a size of >=32, which indicates that you provided a multi-image array with shape (N, H, W) instead. If that is the case, you should use e.g. augmenter(imageS=<your input>) or augment_imageS(<your input>). Otherwise your multi-image input will be interpreted as a single image during augmentation.\n",
            "  ia.warn(\n"
          ]
        },
        {
          "metadata": {
            "tags": null
          },
          "name": "stdout",
          "output_type": "stream",
          "text": [
            "{'id': 41, 'source': 'dataset', 'path': '/content/drive/MyDrive/Colab Notebooks/WorkspaceTesis/data/Train/SH04_20220414_122352.jpg', 'annotation': '/content/drive/MyDrive/Colab Notebooks/WorkspaceTesis/data/Train/SH04_20220414_122352.json'}\n",
            "{'id': 41, 'source': 'dataset', 'path': '/content/drive/MyDrive/Colab Notebooks/WorkspaceTesis/data/Train/SH04_20220414_122352.jpg', 'annotation': '/content/drive/MyDrive/Colab Notebooks/WorkspaceTesis/data/Train/SH04_20220414_122352.json'}\n",
            "{'id': 41, 'source': 'dataset', 'path': '/content/drive/MyDrive/Colab Notebooks/WorkspaceTesis/data/Train/SH04_20220414_122352.jpg', 'annotation': '/content/drive/MyDrive/Colab Notebooks/WorkspaceTesis/data/Train/SH04_20220414_122352.json'}\n",
            "{'id': 41, 'source': 'dataset', 'path': '/content/drive/MyDrive/Colab Notebooks/WorkspaceTesis/data/Train/SH04_20220414_122352.jpg', 'annotation': '/content/drive/MyDrive/Colab Notebooks/WorkspaceTesis/data/Train/SH04_20220414_122352.json'}\n",
            "{'id': 41, 'source': 'dataset', 'path': '/content/drive/MyDrive/Colab Notebooks/WorkspaceTesis/data/Train/SH04_20220414_122352.jpg', 'annotation': '/content/drive/MyDrive/Colab Notebooks/WorkspaceTesis/data/Train/SH04_20220414_122352.json'}\n",
            "{'id': 41, 'source': 'dataset', 'path': '/content/drive/MyDrive/Colab Notebooks/WorkspaceTesis/data/Train/SH04_20220414_122352.jpg', 'annotation': '/content/drive/MyDrive/Colab Notebooks/WorkspaceTesis/data/Train/SH04_20220414_122352.json'}\n",
            "{'id': 41, 'source': 'dataset', 'path': '/content/drive/MyDrive/Colab Notebooks/WorkspaceTesis/data/Train/SH04_20220414_122352.jpg', 'annotation': '/content/drive/MyDrive/Colab Notebooks/WorkspaceTesis/data/Train/SH04_20220414_122352.json'}\n",
            "{'id': 41, 'source': 'dataset', 'path': '/content/drive/MyDrive/Colab Notebooks/WorkspaceTesis/data/Train/SH04_20220414_122352.jpg', 'annotation': '/content/drive/MyDrive/Colab Notebooks/WorkspaceTesis/data/Train/SH04_20220414_122352.json'}\n",
            "{'id': 49, 'source': 'dataset', 'path': '/content/drive/MyDrive/Colab Notebooks/WorkspaceTesis/data/Train/SH04_20220414_121752.jpg', 'annotation': '/content/drive/MyDrive/Colab Notebooks/WorkspaceTesis/data/Train/SH04_20220414_121752.json'}\n",
            "{'id': 49, 'source': 'dataset', 'path': '/content/drive/MyDrive/Colab Notebooks/WorkspaceTesis/data/Train/SH04_20220414_121752.jpg', 'annotation': '/content/drive/MyDrive/Colab Notebooks/WorkspaceTesis/data/Train/SH04_20220414_121752.json'}\n",
            "{'id': 49, 'source': 'dataset', 'path': '/content/drive/MyDrive/Colab Notebooks/WorkspaceTesis/data/Train/SH04_20220414_121752.jpg', 'annotation': '/content/drive/MyDrive/Colab Notebooks/WorkspaceTesis/data/Train/SH04_20220414_121752.json'}\n",
            "{'id': 49, 'source': 'dataset', 'path': '/content/drive/MyDrive/Colab Notebooks/WorkspaceTesis/data/Train/SH04_20220414_121752.jpg', 'annotation': '/content/drive/MyDrive/Colab Notebooks/WorkspaceTesis/data/Train/SH04_20220414_121752.json'}\n",
            "{'id': 49, 'source': 'dataset', 'path': '/content/drive/MyDrive/Colab Notebooks/WorkspaceTesis/data/Train/SH04_20220414_121752.jpg', 'annotation': '/content/drive/MyDrive/Colab Notebooks/WorkspaceTesis/data/Train/SH04_20220414_121752.json'}\n",
            "{'id': 49, 'source': 'dataset', 'path': '/content/drive/MyDrive/Colab Notebooks/WorkspaceTesis/data/Train/SH04_20220414_121752.jpg', 'annotation': '/content/drive/MyDrive/Colab Notebooks/WorkspaceTesis/data/Train/SH04_20220414_121752.json'}\n",
            "{'id': 49, 'source': 'dataset', 'path': '/content/drive/MyDrive/Colab Notebooks/WorkspaceTesis/data/Train/SH04_20220414_121752.jpg', 'annotation': '/content/drive/MyDrive/Colab Notebooks/WorkspaceTesis/data/Train/SH04_20220414_121752.json'}\n",
            "{'id': 49, 'source': 'dataset', 'path': '/content/drive/MyDrive/Colab Notebooks/WorkspaceTesis/data/Train/SH04_20220414_121752.jpg', 'annotation': '/content/drive/MyDrive/Colab Notebooks/WorkspaceTesis/data/Train/SH04_20220414_121752.json'}\n"
          ]
        },
        {
          "metadata": {
            "tags": null
          },
          "name": "stderr",
          "output_type": "stream",
          "text": [
            "/usr/local/lib/python3.10/dist-packages/imgaug/augmenters/base.py:49: SuspiciousSingleImageShapeWarning: You provided a numpy array of shape (1084, 1072, 86) as a single-image augmentation input, which was interpreted as (H, W, C). The last dimension however has a size of >=32, which indicates that you provided a multi-image array with shape (N, H, W) instead. If that is the case, you should use e.g. augmenter(imageS=<your input>) or augment_imageS(<your input>). Otherwise your multi-image input will be interpreted as a single image during augmentation.\n",
            "  ia.warn(\n",
            "/usr/local/lib/python3.10/dist-packages/imgaug/augmenters/base.py:49: SuspiciousSingleImageShapeWarning: You provided a numpy array of shape (1084, 1072, 86) as a single-image augmentation input, which was interpreted as (H, W, C). The last dimension however has a size of >=32, which indicates that you provided a multi-image array with shape (N, H, W) instead. If that is the case, you should use e.g. augmenter(imageS=<your input>) or augment_imageS(<your input>). Otherwise your multi-image input will be interpreted as a single image during augmentation.\n",
            "  ia.warn(\n",
            "/usr/local/lib/python3.10/dist-packages/imgaug/augmenters/base.py:49: SuspiciousSingleImageShapeWarning: You provided a numpy array of shape (1084, 1072, 86) as a single-image augmentation input, which was interpreted as (H, W, C). The last dimension however has a size of >=32, which indicates that you provided a multi-image array with shape (N, H, W) instead. If that is the case, you should use e.g. augmenter(imageS=<your input>) or augment_imageS(<your input>). Otherwise your multi-image input will be interpreted as a single image during augmentation.\n",
            "  ia.warn(\n",
            "/usr/local/lib/python3.10/dist-packages/imgaug/augmenters/base.py:49: SuspiciousSingleImageShapeWarning: You provided a numpy array of shape (1084, 1072, 86) as a single-image augmentation input, which was interpreted as (H, W, C). The last dimension however has a size of >=32, which indicates that you provided a multi-image array with shape (N, H, W) instead. If that is the case, you should use e.g. augmenter(imageS=<your input>) or augment_imageS(<your input>). Otherwise your multi-image input will be interpreted as a single image during augmentation.\n",
            "  ia.warn(\n",
            "/usr/local/lib/python3.10/dist-packages/imgaug/augmenters/base.py:49: SuspiciousSingleImageShapeWarning: You provided a numpy array of shape (1084, 1072, 86) as a single-image augmentation input, which was interpreted as (H, W, C). The last dimension however has a size of >=32, which indicates that you provided a multi-image array with shape (N, H, W) instead. If that is the case, you should use e.g. augmenter(imageS=<your input>) or augment_imageS(<your input>). Otherwise your multi-image input will be interpreted as a single image during augmentation.\n",
            "  ia.warn(\n",
            "/usr/local/lib/python3.10/dist-packages/imgaug/augmenters/base.py:49: SuspiciousSingleImageShapeWarning: You provided a numpy array of shape (1084, 1072, 86) as a single-image augmentation input, which was interpreted as (H, W, C). The last dimension however has a size of >=32, which indicates that you provided a multi-image array with shape (N, H, W) instead. If that is the case, you should use e.g. augmenter(imageS=<your input>) or augment_imageS(<your input>). Otherwise your multi-image input will be interpreted as a single image during augmentation.\n",
            "  ia.warn(\n",
            "/usr/local/lib/python3.10/dist-packages/imgaug/augmenters/base.py:49: SuspiciousSingleImageShapeWarning: You provided a numpy array of shape (1084, 1072, 86) as a single-image augmentation input, which was interpreted as (H, W, C). The last dimension however has a size of >=32, which indicates that you provided a multi-image array with shape (N, H, W) instead. If that is the case, you should use e.g. augmenter(imageS=<your input>) or augment_imageS(<your input>). Otherwise your multi-image input will be interpreted as a single image during augmentation.\n",
            "  ia.warn(\n",
            "/usr/local/lib/python3.10/dist-packages/imgaug/augmenters/base.py:49: SuspiciousSingleImageShapeWarning: You provided a numpy array of shape (1084, 1072, 86) as a single-image augmentation input, which was interpreted as (H, W, C). The last dimension however has a size of >=32, which indicates that you provided a multi-image array with shape (N, H, W) instead. If that is the case, you should use e.g. augmenter(imageS=<your input>) or augment_imageS(<your input>). Otherwise your multi-image input will be interpreted as a single image during augmentation.\n",
            "  ia.warn(\n"
          ]
        },
        {
          "metadata": {
            "tags": null
          },
          "name": "stdout",
          "output_type": "stream",
          "text": [
            "10/10 [==============================] - ETA: 0s - batch: 4.5000 - size: 2.0000 - loss: 3.2263 - rpn_class_loss: 0.6714 - rpn_bbox_loss: 0.5079 - mrcnn_class_loss: 0.6274 - mrcnn_bbox_loss: 0.7345 - mrcnn_mask_loss: 0.6851{'id': 1, 'source': 'dataset', 'path': '/content/drive/MyDrive/Colab Notebooks/WorkspaceTesis/data/Validation/SH04_20220414_112435.jpg', 'annotation': '/content/drive/MyDrive/Colab Notebooks/WorkspaceTesis/data/Validation/SH04_20220414_112435.json'}\n",
            "{'id': 1, 'source': 'dataset', 'path': '/content/drive/MyDrive/Colab Notebooks/WorkspaceTesis/data/Validation/SH04_20220414_112435.jpg', 'annotation': '/content/drive/MyDrive/Colab Notebooks/WorkspaceTesis/data/Validation/SH04_20220414_112435.json'}\n"
          ]
        },
        {
          "metadata": {
            "tags": null
          },
          "name": "stderr",
          "output_type": "stream",
          "text": [
            "/usr/local/lib/python3.10/dist-packages/keras/src/engine/training_v1.py:2335: UserWarning: `Model.state_updates` will be removed in a future version. This property should not be used in TensorFlow 2.0, as `updates` are applied automatically.\n",
            "  updates = self.state_updates\n"
          ]
        },
        {
          "metadata": {
            "tags": null
          },
          "name": "stdout",
          "output_type": "stream",
          "text": [
            "{'id': 1, 'source': 'dataset', 'path': '/content/drive/MyDrive/Colab Notebooks/WorkspaceTesis/data/Validation/SH04_20220414_112435.jpg', 'annotation': '/content/drive/MyDrive/Colab Notebooks/WorkspaceTesis/data/Validation/SH04_20220414_112435.json'}\n",
            "{'id': 1, 'source': 'dataset', 'path': '/content/drive/MyDrive/Colab Notebooks/WorkspaceTesis/data/Validation/SH04_20220414_112435.jpg', 'annotation': '/content/drive/MyDrive/Colab Notebooks/WorkspaceTesis/data/Validation/SH04_20220414_112435.json'}\n",
            "{'id': 1, 'source': 'dataset', 'path': '/content/drive/MyDrive/Colab Notebooks/WorkspaceTesis/data/Validation/SH04_20220414_112435.jpg', 'annotation': '/content/drive/MyDrive/Colab Notebooks/WorkspaceTesis/data/Validation/SH04_20220414_112435.json'}\n",
            "{'id': 1, 'source': 'dataset', 'path': '/content/drive/MyDrive/Colab Notebooks/WorkspaceTesis/data/Validation/SH04_20220414_112435.jpg', 'annotation': '/content/drive/MyDrive/Colab Notebooks/WorkspaceTesis/data/Validation/SH04_20220414_112435.json'}\n",
            "{'id': 1, 'source': 'dataset', 'path': '/content/drive/MyDrive/Colab Notebooks/WorkspaceTesis/data/Validation/SH04_20220414_112435.jpg', 'annotation': '/content/drive/MyDrive/Colab Notebooks/WorkspaceTesis/data/Validation/SH04_20220414_112435.json'}\n",
            "{'id': 1, 'source': 'dataset', 'path': '/content/drive/MyDrive/Colab Notebooks/WorkspaceTesis/data/Validation/SH04_20220414_112435.jpg', 'annotation': '/content/drive/MyDrive/Colab Notebooks/WorkspaceTesis/data/Validation/SH04_20220414_112435.json'}\n",
            "{'id': 1, 'source': 'dataset', 'path': '/content/drive/MyDrive/Colab Notebooks/WorkspaceTesis/data/Validation/SH04_20220414_112435.jpg', 'annotation': '/content/drive/MyDrive/Colab Notebooks/WorkspaceTesis/data/Validation/SH04_20220414_112435.json'}\n",
            "{'id': 1, 'source': 'dataset', 'path': '/content/drive/MyDrive/Colab Notebooks/WorkspaceTesis/data/Validation/SH04_20220414_112435.jpg', 'annotation': '/content/drive/MyDrive/Colab Notebooks/WorkspaceTesis/data/Validation/SH04_20220414_112435.json'}\n",
            "{'id': 1, 'source': 'dataset', 'path': '/content/drive/MyDrive/Colab Notebooks/WorkspaceTesis/data/Validation/SH04_20220414_112435.jpg', 'annotation': '/content/drive/MyDrive/Colab Notebooks/WorkspaceTesis/data/Validation/SH04_20220414_112435.json'}\n",
            "{'id': 1, 'source': 'dataset', 'path': '/content/drive/MyDrive/Colab Notebooks/WorkspaceTesis/data/Validation/SH04_20220414_112435.jpg', 'annotation': '/content/drive/MyDrive/Colab Notebooks/WorkspaceTesis/data/Validation/SH04_20220414_112435.json'}\n",
            "{'id': 1, 'source': 'dataset', 'path': '/content/drive/MyDrive/Colab Notebooks/WorkspaceTesis/data/Validation/SH04_20220414_112435.jpg', 'annotation': '/content/drive/MyDrive/Colab Notebooks/WorkspaceTesis/data/Validation/SH04_20220414_112435.json'}\n",
            "{'id': 1, 'source': 'dataset', 'path': '/content/drive/MyDrive/Colab Notebooks/WorkspaceTesis/data/Validation/SH04_20220414_112435.jpg', 'annotation': '/content/drive/MyDrive/Colab Notebooks/WorkspaceTesis/data/Validation/SH04_20220414_112435.json'}\n",
            "{'id': 1, 'source': 'dataset', 'path': '/content/drive/MyDrive/Colab Notebooks/WorkspaceTesis/data/Validation/SH04_20220414_112435.jpg', 'annotation': '/content/drive/MyDrive/Colab Notebooks/WorkspaceTesis/data/Validation/SH04_20220414_112435.json'}\n",
            "{'id': 1, 'source': 'dataset', 'path': '/content/drive/MyDrive/Colab Notebooks/WorkspaceTesis/data/Validation/SH04_20220414_112435.jpg', 'annotation': '/content/drive/MyDrive/Colab Notebooks/WorkspaceTesis/data/Validation/SH04_20220414_112435.json'}\n",
            "{'id': 1, 'source': 'dataset', 'path': '/content/drive/MyDrive/Colab Notebooks/WorkspaceTesis/data/Validation/SH04_20220414_112435.jpg', 'annotation': '/content/drive/MyDrive/Colab Notebooks/WorkspaceTesis/data/Validation/SH04_20220414_112435.json'}\n",
            "{'id': 1, 'source': 'dataset', 'path': '/content/drive/MyDrive/Colab Notebooks/WorkspaceTesis/data/Validation/SH04_20220414_112435.jpg', 'annotation': '/content/drive/MyDrive/Colab Notebooks/WorkspaceTesis/data/Validation/SH04_20220414_112435.json'}\n",
            "{'id': 1, 'source': 'dataset', 'path': '/content/drive/MyDrive/Colab Notebooks/WorkspaceTesis/data/Validation/SH04_20220414_112435.jpg', 'annotation': '/content/drive/MyDrive/Colab Notebooks/WorkspaceTesis/data/Validation/SH04_20220414_112435.json'}\n",
            "{'id': 1, 'source': 'dataset', 'path': '/content/drive/MyDrive/Colab Notebooks/WorkspaceTesis/data/Validation/SH04_20220414_112435.jpg', 'annotation': '/content/drive/MyDrive/Colab Notebooks/WorkspaceTesis/data/Validation/SH04_20220414_112435.json'}\n",
            "{'id': 1, 'source': 'dataset', 'path': '/content/drive/MyDrive/Colab Notebooks/WorkspaceTesis/data/Validation/SH04_20220414_112435.jpg', 'annotation': '/content/drive/MyDrive/Colab Notebooks/WorkspaceTesis/data/Validation/SH04_20220414_112435.json'}\n",
            "{'id': 1, 'source': 'dataset', 'path': '/content/drive/MyDrive/Colab Notebooks/WorkspaceTesis/data/Validation/SH04_20220414_112435.jpg', 'annotation': '/content/drive/MyDrive/Colab Notebooks/WorkspaceTesis/data/Validation/SH04_20220414_112435.json'}\n",
            "{'id': 1, 'source': 'dataset', 'path': '/content/drive/MyDrive/Colab Notebooks/WorkspaceTesis/data/Validation/SH04_20220414_112435.jpg', 'annotation': '/content/drive/MyDrive/Colab Notebooks/WorkspaceTesis/data/Validation/SH04_20220414_112435.json'}\n",
            "{'id': 1, 'source': 'dataset', 'path': '/content/drive/MyDrive/Colab Notebooks/WorkspaceTesis/data/Validation/SH04_20220414_112435.jpg', 'annotation': '/content/drive/MyDrive/Colab Notebooks/WorkspaceTesis/data/Validation/SH04_20220414_112435.json'}\n",
            "{'id': 1, 'source': 'dataset', 'path': '/content/drive/MyDrive/Colab Notebooks/WorkspaceTesis/data/Validation/SH04_20220414_112435.jpg', 'annotation': '/content/drive/MyDrive/Colab Notebooks/WorkspaceTesis/data/Validation/SH04_20220414_112435.json'}\n",
            "{'id': 1, 'source': 'dataset', 'path': '/content/drive/MyDrive/Colab Notebooks/WorkspaceTesis/data/Validation/SH04_20220414_112435.jpg', 'annotation': '/content/drive/MyDrive/Colab Notebooks/WorkspaceTesis/data/Validation/SH04_20220414_112435.json'}\n",
            "{'id': 1, 'source': 'dataset', 'path': '/content/drive/MyDrive/Colab Notebooks/WorkspaceTesis/data/Validation/SH04_20220414_112435.jpg', 'annotation': '/content/drive/MyDrive/Colab Notebooks/WorkspaceTesis/data/Validation/SH04_20220414_112435.json'}\n",
            "{'id': 1, 'source': 'dataset', 'path': '/content/drive/MyDrive/Colab Notebooks/WorkspaceTesis/data/Validation/SH04_20220414_112435.jpg', 'annotation': '/content/drive/MyDrive/Colab Notebooks/WorkspaceTesis/data/Validation/SH04_20220414_112435.json'}\n",
            "{'id': 1, 'source': 'dataset', 'path': '/content/drive/MyDrive/Colab Notebooks/WorkspaceTesis/data/Validation/SH04_20220414_112435.jpg', 'annotation': '/content/drive/MyDrive/Colab Notebooks/WorkspaceTesis/data/Validation/SH04_20220414_112435.json'}\n",
            "{'id': 1, 'source': 'dataset', 'path': '/content/drive/MyDrive/Colab Notebooks/WorkspaceTesis/data/Validation/SH04_20220414_112435.jpg', 'annotation': '/content/drive/MyDrive/Colab Notebooks/WorkspaceTesis/data/Validation/SH04_20220414_112435.json'}\n",
            "{'id': 1, 'source': 'dataset', 'path': '/content/drive/MyDrive/Colab Notebooks/WorkspaceTesis/data/Validation/SH04_20220414_112435.jpg', 'annotation': '/content/drive/MyDrive/Colab Notebooks/WorkspaceTesis/data/Validation/SH04_20220414_112435.json'}\n",
            "{'id': 1, 'source': 'dataset', 'path': '/content/drive/MyDrive/Colab Notebooks/WorkspaceTesis/data/Validation/SH04_20220414_112435.jpg', 'annotation': '/content/drive/MyDrive/Colab Notebooks/WorkspaceTesis/data/Validation/SH04_20220414_112435.json'}\n",
            "{'id': 1, 'source': 'dataset', 'path': '/content/drive/MyDrive/Colab Notebooks/WorkspaceTesis/data/Validation/SH04_20220414_112435.jpg', 'annotation': '/content/drive/MyDrive/Colab Notebooks/WorkspaceTesis/data/Validation/SH04_20220414_112435.json'}\n",
            "{'id': 1, 'source': 'dataset', 'path': '/content/drive/MyDrive/Colab Notebooks/WorkspaceTesis/data/Validation/SH04_20220414_112435.jpg', 'annotation': '/content/drive/MyDrive/Colab Notebooks/WorkspaceTesis/data/Validation/SH04_20220414_112435.json'}\n",
            "{'id': 1, 'source': 'dataset', 'path': '/content/drive/MyDrive/Colab Notebooks/WorkspaceTesis/data/Validation/SH04_20220414_112435.jpg', 'annotation': '/content/drive/MyDrive/Colab Notebooks/WorkspaceTesis/data/Validation/SH04_20220414_112435.json'}\n",
            "{'id': 1, 'source': 'dataset', 'path': '/content/drive/MyDrive/Colab Notebooks/WorkspaceTesis/data/Validation/SH04_20220414_112435.jpg', 'annotation': '/content/drive/MyDrive/Colab Notebooks/WorkspaceTesis/data/Validation/SH04_20220414_112435.json'}\n",
            "{'id': 1, 'source': 'dataset', 'path': '/content/drive/MyDrive/Colab Notebooks/WorkspaceTesis/data/Validation/SH04_20220414_112435.jpg', 'annotation': '/content/drive/MyDrive/Colab Notebooks/WorkspaceTesis/data/Validation/SH04_20220414_112435.json'}\n",
            "{'id': 1, 'source': 'dataset', 'path': '/content/drive/MyDrive/Colab Notebooks/WorkspaceTesis/data/Validation/SH04_20220414_112435.jpg', 'annotation': '/content/drive/MyDrive/Colab Notebooks/WorkspaceTesis/data/Validation/SH04_20220414_112435.json'}\n",
            "{'id': 1, 'source': 'dataset', 'path': '/content/drive/MyDrive/Colab Notebooks/WorkspaceTesis/data/Validation/SH04_20220414_112435.jpg', 'annotation': '/content/drive/MyDrive/Colab Notebooks/WorkspaceTesis/data/Validation/SH04_20220414_112435.json'}\n",
            "{'id': 1, 'source': 'dataset', 'path': '/content/drive/MyDrive/Colab Notebooks/WorkspaceTesis/data/Validation/SH04_20220414_112435.jpg', 'annotation': '/content/drive/MyDrive/Colab Notebooks/WorkspaceTesis/data/Validation/SH04_20220414_112435.json'}\n",
            "{'id': 1, 'source': 'dataset', 'path': '/content/drive/MyDrive/Colab Notebooks/WorkspaceTesis/data/Validation/SH04_20220414_112435.jpg', 'annotation': '/content/drive/MyDrive/Colab Notebooks/WorkspaceTesis/data/Validation/SH04_20220414_112435.json'}\n",
            "{'id': 1, 'source': 'dataset', 'path': '/content/drive/MyDrive/Colab Notebooks/WorkspaceTesis/data/Validation/SH04_20220414_112435.jpg', 'annotation': '/content/drive/MyDrive/Colab Notebooks/WorkspaceTesis/data/Validation/SH04_20220414_112435.json'}\n",
            "{'id': 1, 'source': 'dataset', 'path': '/content/drive/MyDrive/Colab Notebooks/WorkspaceTesis/data/Validation/SH04_20220414_112435.jpg', 'annotation': '/content/drive/MyDrive/Colab Notebooks/WorkspaceTesis/data/Validation/SH04_20220414_112435.json'}\n",
            "{'id': 1, 'source': 'dataset', 'path': '/content/drive/MyDrive/Colab Notebooks/WorkspaceTesis/data/Validation/SH04_20220414_112435.jpg', 'annotation': '/content/drive/MyDrive/Colab Notebooks/WorkspaceTesis/data/Validation/SH04_20220414_112435.json'}\n",
            "{'id': 1, 'source': 'dataset', 'path': '/content/drive/MyDrive/Colab Notebooks/WorkspaceTesis/data/Validation/SH04_20220414_112435.jpg', 'annotation': '/content/drive/MyDrive/Colab Notebooks/WorkspaceTesis/data/Validation/SH04_20220414_112435.json'}\n",
            "{'id': 1, 'source': 'dataset', 'path': '/content/drive/MyDrive/Colab Notebooks/WorkspaceTesis/data/Validation/SH04_20220414_112435.jpg', 'annotation': '/content/drive/MyDrive/Colab Notebooks/WorkspaceTesis/data/Validation/SH04_20220414_112435.json'}\n",
            "{'id': 1, 'source': 'dataset', 'path': '/content/drive/MyDrive/Colab Notebooks/WorkspaceTesis/data/Validation/SH04_20220414_112435.jpg', 'annotation': '/content/drive/MyDrive/Colab Notebooks/WorkspaceTesis/data/Validation/SH04_20220414_112435.json'}\n",
            "{'id': 1, 'source': 'dataset', 'path': '/content/drive/MyDrive/Colab Notebooks/WorkspaceTesis/data/Validation/SH04_20220414_112435.jpg', 'annotation': '/content/drive/MyDrive/Colab Notebooks/WorkspaceTesis/data/Validation/SH04_20220414_112435.json'}\n",
            "{'id': 1, 'source': 'dataset', 'path': '/content/drive/MyDrive/Colab Notebooks/WorkspaceTesis/data/Validation/SH04_20220414_112435.jpg', 'annotation': '/content/drive/MyDrive/Colab Notebooks/WorkspaceTesis/data/Validation/SH04_20220414_112435.json'}\n",
            "{'id': 1, 'source': 'dataset', 'path': '/content/drive/MyDrive/Colab Notebooks/WorkspaceTesis/data/Validation/SH04_20220414_112435.jpg', 'annotation': '/content/drive/MyDrive/Colab Notebooks/WorkspaceTesis/data/Validation/SH04_20220414_112435.json'}\n",
            "{'id': 1, 'source': 'dataset', 'path': '/content/drive/MyDrive/Colab Notebooks/WorkspaceTesis/data/Validation/SH04_20220414_112435.jpg', 'annotation': '/content/drive/MyDrive/Colab Notebooks/WorkspaceTesis/data/Validation/SH04_20220414_112435.json'}\n",
            "{'id': 1, 'source': 'dataset', 'path': '/content/drive/MyDrive/Colab Notebooks/WorkspaceTesis/data/Validation/SH04_20220414_112435.jpg', 'annotation': '/content/drive/MyDrive/Colab Notebooks/WorkspaceTesis/data/Validation/SH04_20220414_112435.json'}\n",
            "{'id': 1, 'source': 'dataset', 'path': '/content/drive/MyDrive/Colab Notebooks/WorkspaceTesis/data/Validation/SH04_20220414_112435.jpg', 'annotation': '/content/drive/MyDrive/Colab Notebooks/WorkspaceTesis/data/Validation/SH04_20220414_112435.json'}\n",
            "{'id': 1, 'source': 'dataset', 'path': '/content/drive/MyDrive/Colab Notebooks/WorkspaceTesis/data/Validation/SH04_20220414_112435.jpg', 'annotation': '/content/drive/MyDrive/Colab Notebooks/WorkspaceTesis/data/Validation/SH04_20220414_112435.json'}\n",
            "{'id': 1, 'source': 'dataset', 'path': '/content/drive/MyDrive/Colab Notebooks/WorkspaceTesis/data/Validation/SH04_20220414_112435.jpg', 'annotation': '/content/drive/MyDrive/Colab Notebooks/WorkspaceTesis/data/Validation/SH04_20220414_112435.json'}\n",
            "{'id': 1, 'source': 'dataset', 'path': '/content/drive/MyDrive/Colab Notebooks/WorkspaceTesis/data/Validation/SH04_20220414_112435.jpg', 'annotation': '/content/drive/MyDrive/Colab Notebooks/WorkspaceTesis/data/Validation/SH04_20220414_112435.json'}\n",
            "{'id': 1, 'source': 'dataset', 'path': '/content/drive/MyDrive/Colab Notebooks/WorkspaceTesis/data/Validation/SH04_20220414_112435.jpg', 'annotation': '/content/drive/MyDrive/Colab Notebooks/WorkspaceTesis/data/Validation/SH04_20220414_112435.json'}\n",
            "{'id': 1, 'source': 'dataset', 'path': '/content/drive/MyDrive/Colab Notebooks/WorkspaceTesis/data/Validation/SH04_20220414_112435.jpg', 'annotation': '/content/drive/MyDrive/Colab Notebooks/WorkspaceTesis/data/Validation/SH04_20220414_112435.json'}\n",
            "{'id': 1, 'source': 'dataset', 'path': '/content/drive/MyDrive/Colab Notebooks/WorkspaceTesis/data/Validation/SH04_20220414_112435.jpg', 'annotation': '/content/drive/MyDrive/Colab Notebooks/WorkspaceTesis/data/Validation/SH04_20220414_112435.json'}\n",
            "{'id': 1, 'source': 'dataset', 'path': '/content/drive/MyDrive/Colab Notebooks/WorkspaceTesis/data/Validation/SH04_20220414_112435.jpg', 'annotation': '/content/drive/MyDrive/Colab Notebooks/WorkspaceTesis/data/Validation/SH04_20220414_112435.json'}\n",
            "{'id': 1, 'source': 'dataset', 'path': '/content/drive/MyDrive/Colab Notebooks/WorkspaceTesis/data/Validation/SH04_20220414_112435.jpg', 'annotation': '/content/drive/MyDrive/Colab Notebooks/WorkspaceTesis/data/Validation/SH04_20220414_112435.json'}\n",
            "{'id': 1, 'source': 'dataset', 'path': '/content/drive/MyDrive/Colab Notebooks/WorkspaceTesis/data/Validation/SH04_20220414_112435.jpg', 'annotation': '/content/drive/MyDrive/Colab Notebooks/WorkspaceTesis/data/Validation/SH04_20220414_112435.json'}\n",
            "{'id': 1, 'source': 'dataset', 'path': '/content/drive/MyDrive/Colab Notebooks/WorkspaceTesis/data/Validation/SH04_20220414_112435.jpg', 'annotation': '/content/drive/MyDrive/Colab Notebooks/WorkspaceTesis/data/Validation/SH04_20220414_112435.json'}\n",
            "{'id': 1, 'source': 'dataset', 'path': '/content/drive/MyDrive/Colab Notebooks/WorkspaceTesis/data/Validation/SH04_20220414_112435.jpg', 'annotation': '/content/drive/MyDrive/Colab Notebooks/WorkspaceTesis/data/Validation/SH04_20220414_112435.json'}\n",
            "{'id': 1, 'source': 'dataset', 'path': '/content/drive/MyDrive/Colab Notebooks/WorkspaceTesis/data/Validation/SH04_20220414_112435.jpg', 'annotation': '/content/drive/MyDrive/Colab Notebooks/WorkspaceTesis/data/Validation/SH04_20220414_112435.json'}\n",
            "{'id': 1, 'source': 'dataset', 'path': '/content/drive/MyDrive/Colab Notebooks/WorkspaceTesis/data/Validation/SH04_20220414_112435.jpg', 'annotation': '/content/drive/MyDrive/Colab Notebooks/WorkspaceTesis/data/Validation/SH04_20220414_112435.json'}\n",
            "{'id': 1, 'source': 'dataset', 'path': '/content/drive/MyDrive/Colab Notebooks/WorkspaceTesis/data/Validation/SH04_20220414_112435.jpg', 'annotation': '/content/drive/MyDrive/Colab Notebooks/WorkspaceTesis/data/Validation/SH04_20220414_112435.json'}\n",
            "{'id': 1, 'source': 'dataset', 'path': '/content/drive/MyDrive/Colab Notebooks/WorkspaceTesis/data/Validation/SH04_20220414_112435.jpg', 'annotation': '/content/drive/MyDrive/Colab Notebooks/WorkspaceTesis/data/Validation/SH04_20220414_112435.json'}\n",
            "{'id': 1, 'source': 'dataset', 'path': '/content/drive/MyDrive/Colab Notebooks/WorkspaceTesis/data/Validation/SH04_20220414_112435.jpg', 'annotation': '/content/drive/MyDrive/Colab Notebooks/WorkspaceTesis/data/Validation/SH04_20220414_112435.json'}\n",
            "{'id': 1, 'source': 'dataset', 'path': '/content/drive/MyDrive/Colab Notebooks/WorkspaceTesis/data/Validation/SH04_20220414_112435.jpg', 'annotation': '/content/drive/MyDrive/Colab Notebooks/WorkspaceTesis/data/Validation/SH04_20220414_112435.json'}\n",
            "{'id': 1, 'source': 'dataset', 'path': '/content/drive/MyDrive/Colab Notebooks/WorkspaceTesis/data/Validation/SH04_20220414_112435.jpg', 'annotation': '/content/drive/MyDrive/Colab Notebooks/WorkspaceTesis/data/Validation/SH04_20220414_112435.json'}\n",
            "{'id': 1, 'source': 'dataset', 'path': '/content/drive/MyDrive/Colab Notebooks/WorkspaceTesis/data/Validation/SH04_20220414_112435.jpg', 'annotation': '/content/drive/MyDrive/Colab Notebooks/WorkspaceTesis/data/Validation/SH04_20220414_112435.json'}\n",
            "{'id': 1, 'source': 'dataset', 'path': '/content/drive/MyDrive/Colab Notebooks/WorkspaceTesis/data/Validation/SH04_20220414_112435.jpg', 'annotation': '/content/drive/MyDrive/Colab Notebooks/WorkspaceTesis/data/Validation/SH04_20220414_112435.json'}\n",
            "{'id': 1, 'source': 'dataset', 'path': '/content/drive/MyDrive/Colab Notebooks/WorkspaceTesis/data/Validation/SH04_20220414_112435.jpg', 'annotation': '/content/drive/MyDrive/Colab Notebooks/WorkspaceTesis/data/Validation/SH04_20220414_112435.json'}\n",
            "{'id': 1, 'source': 'dataset', 'path': '/content/drive/MyDrive/Colab Notebooks/WorkspaceTesis/data/Validation/SH04_20220414_112435.jpg', 'annotation': '/content/drive/MyDrive/Colab Notebooks/WorkspaceTesis/data/Validation/SH04_20220414_112435.json'}\n",
            "{'id': 1, 'source': 'dataset', 'path': '/content/drive/MyDrive/Colab Notebooks/WorkspaceTesis/data/Validation/SH04_20220414_112435.jpg', 'annotation': '/content/drive/MyDrive/Colab Notebooks/WorkspaceTesis/data/Validation/SH04_20220414_112435.json'}\n",
            "{'id': 1, 'source': 'dataset', 'path': '/content/drive/MyDrive/Colab Notebooks/WorkspaceTesis/data/Validation/SH04_20220414_112435.jpg', 'annotation': '/content/drive/MyDrive/Colab Notebooks/WorkspaceTesis/data/Validation/SH04_20220414_112435.json'}\n",
            "{'id': 1, 'source': 'dataset', 'path': '/content/drive/MyDrive/Colab Notebooks/WorkspaceTesis/data/Validation/SH04_20220414_112435.jpg', 'annotation': '/content/drive/MyDrive/Colab Notebooks/WorkspaceTesis/data/Validation/SH04_20220414_112435.json'}\n",
            "{'id': 1, 'source': 'dataset', 'path': '/content/drive/MyDrive/Colab Notebooks/WorkspaceTesis/data/Validation/SH04_20220414_112435.jpg', 'annotation': '/content/drive/MyDrive/Colab Notebooks/WorkspaceTesis/data/Validation/SH04_20220414_112435.json'}\n",
            "{'id': 1, 'source': 'dataset', 'path': '/content/drive/MyDrive/Colab Notebooks/WorkspaceTesis/data/Validation/SH04_20220414_112435.jpg', 'annotation': '/content/drive/MyDrive/Colab Notebooks/WorkspaceTesis/data/Validation/SH04_20220414_112435.json'}\n",
            "{'id': 1, 'source': 'dataset', 'path': '/content/drive/MyDrive/Colab Notebooks/WorkspaceTesis/data/Validation/SH04_20220414_112435.jpg', 'annotation': '/content/drive/MyDrive/Colab Notebooks/WorkspaceTesis/data/Validation/SH04_20220414_112435.json'}\n",
            "{'id': 1, 'source': 'dataset', 'path': '/content/drive/MyDrive/Colab Notebooks/WorkspaceTesis/data/Validation/SH04_20220414_112435.jpg', 'annotation': '/content/drive/MyDrive/Colab Notebooks/WorkspaceTesis/data/Validation/SH04_20220414_112435.json'}\n",
            "{'id': 1, 'source': 'dataset', 'path': '/content/drive/MyDrive/Colab Notebooks/WorkspaceTesis/data/Validation/SH04_20220414_112435.jpg', 'annotation': '/content/drive/MyDrive/Colab Notebooks/WorkspaceTesis/data/Validation/SH04_20220414_112435.json'}\n",
            "{'id': 1, 'source': 'dataset', 'path': '/content/drive/MyDrive/Colab Notebooks/WorkspaceTesis/data/Validation/SH04_20220414_112435.jpg', 'annotation': '/content/drive/MyDrive/Colab Notebooks/WorkspaceTesis/data/Validation/SH04_20220414_112435.json'}\n",
            "{'id': 1, 'source': 'dataset', 'path': '/content/drive/MyDrive/Colab Notebooks/WorkspaceTesis/data/Validation/SH04_20220414_112435.jpg', 'annotation': '/content/drive/MyDrive/Colab Notebooks/WorkspaceTesis/data/Validation/SH04_20220414_112435.json'}\n",
            "{'id': 1, 'source': 'dataset', 'path': '/content/drive/MyDrive/Colab Notebooks/WorkspaceTesis/data/Validation/SH04_20220414_112435.jpg', 'annotation': '/content/drive/MyDrive/Colab Notebooks/WorkspaceTesis/data/Validation/SH04_20220414_112435.json'}\n",
            "{'id': 1, 'source': 'dataset', 'path': '/content/drive/MyDrive/Colab Notebooks/WorkspaceTesis/data/Validation/SH04_20220414_112435.jpg', 'annotation': '/content/drive/MyDrive/Colab Notebooks/WorkspaceTesis/data/Validation/SH04_20220414_112435.json'}\n",
            "{'id': 1, 'source': 'dataset', 'path': '/content/drive/MyDrive/Colab Notebooks/WorkspaceTesis/data/Validation/SH04_20220414_112435.jpg', 'annotation': '/content/drive/MyDrive/Colab Notebooks/WorkspaceTesis/data/Validation/SH04_20220414_112435.json'}\n",
            "{'id': 1, 'source': 'dataset', 'path': '/content/drive/MyDrive/Colab Notebooks/WorkspaceTesis/data/Validation/SH04_20220414_112435.jpg', 'annotation': '/content/drive/MyDrive/Colab Notebooks/WorkspaceTesis/data/Validation/SH04_20220414_112435.json'}\n",
            "{'id': 1, 'source': 'dataset', 'path': '/content/drive/MyDrive/Colab Notebooks/WorkspaceTesis/data/Validation/SH04_20220414_112435.jpg', 'annotation': '/content/drive/MyDrive/Colab Notebooks/WorkspaceTesis/data/Validation/SH04_20220414_112435.json'}\n",
            "{'id': 1, 'source': 'dataset', 'path': '/content/drive/MyDrive/Colab Notebooks/WorkspaceTesis/data/Validation/SH04_20220414_112435.jpg', 'annotation': '/content/drive/MyDrive/Colab Notebooks/WorkspaceTesis/data/Validation/SH04_20220414_112435.json'}\n",
            "{'id': 1, 'source': 'dataset', 'path': '/content/drive/MyDrive/Colab Notebooks/WorkspaceTesis/data/Validation/SH04_20220414_112435.jpg', 'annotation': '/content/drive/MyDrive/Colab Notebooks/WorkspaceTesis/data/Validation/SH04_20220414_112435.json'}\n",
            "{'id': 1, 'source': 'dataset', 'path': '/content/drive/MyDrive/Colab Notebooks/WorkspaceTesis/data/Validation/SH04_20220414_112435.jpg', 'annotation': '/content/drive/MyDrive/Colab Notebooks/WorkspaceTesis/data/Validation/SH04_20220414_112435.json'}\n",
            "{'id': 1, 'source': 'dataset', 'path': '/content/drive/MyDrive/Colab Notebooks/WorkspaceTesis/data/Validation/SH04_20220414_112435.jpg', 'annotation': '/content/drive/MyDrive/Colab Notebooks/WorkspaceTesis/data/Validation/SH04_20220414_112435.json'}\n",
            "{'id': 1, 'source': 'dataset', 'path': '/content/drive/MyDrive/Colab Notebooks/WorkspaceTesis/data/Validation/SH04_20220414_112435.jpg', 'annotation': '/content/drive/MyDrive/Colab Notebooks/WorkspaceTesis/data/Validation/SH04_20220414_112435.json'}\n",
            "{'id': 1, 'source': 'dataset', 'path': '/content/drive/MyDrive/Colab Notebooks/WorkspaceTesis/data/Validation/SH04_20220414_112435.jpg', 'annotation': '/content/drive/MyDrive/Colab Notebooks/WorkspaceTesis/data/Validation/SH04_20220414_112435.json'}\n",
            "{'id': 1, 'source': 'dataset', 'path': '/content/drive/MyDrive/Colab Notebooks/WorkspaceTesis/data/Validation/SH04_20220414_112435.jpg', 'annotation': '/content/drive/MyDrive/Colab Notebooks/WorkspaceTesis/data/Validation/SH04_20220414_112435.json'}\n",
            "{'id': 1, 'source': 'dataset', 'path': '/content/drive/MyDrive/Colab Notebooks/WorkspaceTesis/data/Validation/SH04_20220414_112435.jpg', 'annotation': '/content/drive/MyDrive/Colab Notebooks/WorkspaceTesis/data/Validation/SH04_20220414_112435.json'}\n",
            "{'id': 1, 'source': 'dataset', 'path': '/content/drive/MyDrive/Colab Notebooks/WorkspaceTesis/data/Validation/SH04_20220414_112435.jpg', 'annotation': '/content/drive/MyDrive/Colab Notebooks/WorkspaceTesis/data/Validation/SH04_20220414_112435.json'}\n",
            "{'id': 1, 'source': 'dataset', 'path': '/content/drive/MyDrive/Colab Notebooks/WorkspaceTesis/data/Validation/SH04_20220414_112435.jpg', 'annotation': '/content/drive/MyDrive/Colab Notebooks/WorkspaceTesis/data/Validation/SH04_20220414_112435.json'}\n",
            "{'id': 1, 'source': 'dataset', 'path': '/content/drive/MyDrive/Colab Notebooks/WorkspaceTesis/data/Validation/SH04_20220414_112435.jpg', 'annotation': '/content/drive/MyDrive/Colab Notebooks/WorkspaceTesis/data/Validation/SH04_20220414_112435.json'}\n",
            "{'id': 1, 'source': 'dataset', 'path': '/content/drive/MyDrive/Colab Notebooks/WorkspaceTesis/data/Validation/SH04_20220414_112435.jpg', 'annotation': '/content/drive/MyDrive/Colab Notebooks/WorkspaceTesis/data/Validation/SH04_20220414_112435.json'}\n",
            "10/10 [==============================] - 1038s 109s/step - batch: 4.5000 - size: 2.0000 - loss: 3.2263 - rpn_class_loss: 0.6714 - rpn_bbox_loss: 0.5079 - mrcnn_class_loss: 0.6274 - mrcnn_bbox_loss: 0.7345 - mrcnn_mask_loss: 0.6851 - val_loss: 3.1475 - val_rpn_class_loss: 0.5045 - val_rpn_bbox_loss: 0.4764 - val_mrcnn_class_loss: 0.7133 - val_mrcnn_bbox_loss: 0.6718 - val_mrcnn_mask_loss: 0.7814\n",
            "Epoch 2/6\n",
            " 5/10 [==============>...............] - ETA: 3s - batch: 2.0000 - size: 2.0000 - loss: 2.4927 - rpn_class_loss: 0.3417 - rpn_bbox_loss: 0.3988 - mrcnn_class_loss: 0.4093 - mrcnn_bbox_loss: 0.7168 - mrcnn_mask_loss: 0.6261{'id': 33, 'source': 'dataset', 'path': '/content/drive/MyDrive/Colab Notebooks/WorkspaceTesis/data/Train/SH04_20220414_110036.jpg', 'annotation': '/content/drive/MyDrive/Colab Notebooks/WorkspaceTesis/data/Train/SH04_20220414_110036.json'}{'id': 33, 'source': 'dataset', 'path': '/content/drive/MyDrive/Colab Notebooks/WorkspaceTesis/data/Train/SH04_20220414_110036.jpg', 'annotation': '/content/drive/MyDrive/Colab Notebooks/WorkspaceTesis/data/Train/SH04_20220414_110036.json'}{'id': 33, 'source': 'dataset', 'path': '/content/drive/MyDrive/Colab Notebooks/WorkspaceTesis/data/Train/SH04_20220414_110036.jpg', 'annotation': '/content/drive/MyDrive/Colab Notebooks/WorkspaceTesis/data/Train/SH04_20220414_110036.json'}{'id': 33, 'source': 'dataset', 'path': '/content/drive/MyDrive/Colab Notebooks/WorkspaceTesis/data/Train/SH04_20220414_110036.jpg', 'annotation': '/content/drive/MyDrive/Colab Notebooks/WorkspaceTesis/data/Train/SH04_20220414_110036.json'}{'id': 33, 'source': 'dataset', 'path': '/content/drive/MyDrive/Colab Notebooks/WorkspaceTesis/data/Train/SH04_20220414_110036.jpg', 'annotation': '/content/drive/MyDrive/Colab Notebooks/WorkspaceTesis/data/Train/SH04_20220414_110036.json'}{'id': 33, 'source': 'dataset', 'path': '/content/drive/MyDrive/Colab Notebooks/WorkspaceTesis/data/Train/SH04_20220414_110036.jpg', 'annotation': '/content/drive/MyDrive/Colab Notebooks/WorkspaceTesis/data/Train/SH04_20220414_110036.json'}\n",
            "\n",
            "\n",
            "\n",
            "{'id': 33, 'source': 'dataset', 'path': '/content/drive/MyDrive/Colab Notebooks/WorkspaceTesis/data/Train/SH04_20220414_110036.jpg', 'annotation': '/content/drive/MyDrive/Colab Notebooks/WorkspaceTesis/data/Train/SH04_20220414_110036.json'}\n",
            "{'id': 33, 'source': 'dataset', 'path': '/content/drive/MyDrive/Colab Notebooks/WorkspaceTesis/data/Train/SH04_20220414_110036.jpg', 'annotation': '/content/drive/MyDrive/Colab Notebooks/WorkspaceTesis/data/Train/SH04_20220414_110036.json'}\n",
            "\n",
            "\n",
            " 6/10 [=================>............] - ETA: 2s - batch: 2.5000 - size: 2.0000 - loss: 2.4673 - rpn_class_loss: 0.3325 - rpn_bbox_loss: 0.3920 - mrcnn_class_loss: 0.4222 - mrcnn_bbox_loss: 0.7038 - mrcnn_mask_loss: 0.6169"
          ]
        },
        {
          "metadata": {
            "tags": null
          },
          "name": "stderr",
          "output_type": "stream",
          "text": [
            "/usr/local/lib/python3.10/dist-packages/imgaug/augmenters/base.py:49: SuspiciousSingleImageShapeWarning: You provided a numpy array of shape (1084, 1072, 214) as a single-image augmentation input, which was interpreted as (H, W, C). The last dimension however has a size of >=32, which indicates that you provided a multi-image array with shape (N, H, W) instead. If that is the case, you should use e.g. augmenter(imageS=<your input>) or augment_imageS(<your input>). Otherwise your multi-image input will be interpreted as a single image during augmentation.\n",
            "  ia.warn(\n",
            "/usr/local/lib/python3.10/dist-packages/imgaug/augmenters/base.py:49: SuspiciousSingleImageShapeWarning: You provided a numpy array of shape (1084, 1072, 214) as a single-image augmentation input, which was interpreted as (H, W, C). The last dimension however has a size of >=32, which indicates that you provided a multi-image array with shape (N, H, W) instead. If that is the case, you should use e.g. augmenter(imageS=<your input>) or augment_imageS(<your input>). Otherwise your multi-image input will be interpreted as a single image during augmentation.\n",
            "  ia.warn(\n",
            "/usr/local/lib/python3.10/dist-packages/imgaug/augmenters/base.py:49: SuspiciousSingleImageShapeWarning: You provided a numpy array of shape (1084, 1072, 214) as a single-image augmentation input, which was interpreted as (H, W, C). The last dimension however has a size of >=32, which indicates that you provided a multi-image array with shape (N, H, W) instead. If that is the case, you should use e.g. augmenter(imageS=<your input>) or augment_imageS(<your input>). Otherwise your multi-image input will be interpreted as a single image during augmentation.\n",
            "  ia.warn(\n",
            "/usr/local/lib/python3.10/dist-packages/imgaug/augmenters/base.py:49: SuspiciousSingleImageShapeWarning: You provided a numpy array of shape (1084, 1072, 214) as a single-image augmentation input, which was interpreted as (H, W, C). The last dimension however has a size of >=32, which indicates that you provided a multi-image array with shape (N, H, W) instead. If that is the case, you should use e.g. augmenter(imageS=<your input>) or augment_imageS(<your input>). Otherwise your multi-image input will be interpreted as a single image during augmentation.\n",
            "  ia.warn(\n",
            "/usr/local/lib/python3.10/dist-packages/imgaug/augmenters/base.py:49: SuspiciousSingleImageShapeWarning: You provided a numpy array of shape (1084, 1072, 214) as a single-image augmentation input, which was interpreted as (H, W, C). The last dimension however has a size of >=32, which indicates that you provided a multi-image array with shape (N, H, W) instead. If that is the case, you should use e.g. augmenter(imageS=<your input>) or augment_imageS(<your input>). Otherwise your multi-image input will be interpreted as a single image during augmentation.\n",
            "  ia.warn(\n",
            "/usr/local/lib/python3.10/dist-packages/imgaug/augmenters/base.py:49: SuspiciousSingleImageShapeWarning: You provided a numpy array of shape (1084, 1072, 214) as a single-image augmentation input, which was interpreted as (H, W, C). The last dimension however has a size of >=32, which indicates that you provided a multi-image array with shape (N, H, W) instead. If that is the case, you should use e.g. augmenter(imageS=<your input>) or augment_imageS(<your input>). Otherwise your multi-image input will be interpreted as a single image during augmentation.\n",
            "  ia.warn(\n",
            "/usr/local/lib/python3.10/dist-packages/imgaug/augmenters/base.py:49: SuspiciousSingleImageShapeWarning: You provided a numpy array of shape (1084, 1072, 214) as a single-image augmentation input, which was interpreted as (H, W, C). The last dimension however has a size of >=32, which indicates that you provided a multi-image array with shape (N, H, W) instead. If that is the case, you should use e.g. augmenter(imageS=<your input>) or augment_imageS(<your input>). Otherwise your multi-image input will be interpreted as a single image during augmentation.\n",
            "  ia.warn(\n",
            "/usr/local/lib/python3.10/dist-packages/imgaug/augmenters/base.py:49: SuspiciousSingleImageShapeWarning: You provided a numpy array of shape (1084, 1072, 214) as a single-image augmentation input, which was interpreted as (H, W, C). The last dimension however has a size of >=32, which indicates that you provided a multi-image array with shape (N, H, W) instead. If that is the case, you should use e.g. augmenter(imageS=<your input>) or augment_imageS(<your input>). Otherwise your multi-image input will be interpreted as a single image during augmentation.\n",
            "  ia.warn(\n"
          ]
        },
        {
          "metadata": {
            "tags": null
          },
          "name": "stdout",
          "output_type": "stream",
          "text": [
            "{'id': 61, 'source': 'dataset', 'path': '/content/drive/MyDrive/Colab Notebooks/WorkspaceTesis/data/Train/SH04_20220413_095737.jpg', 'annotation': '/content/drive/MyDrive/Colab Notebooks/WorkspaceTesis/data/Train/SH04_20220413_095737.json'}\n",
            "{'id': 61, 'source': 'dataset', 'path': '/content/drive/MyDrive/Colab Notebooks/WorkspaceTesis/data/Train/SH04_20220413_095737.jpg', 'annotation': '/content/drive/MyDrive/Colab Notebooks/WorkspaceTesis/data/Train/SH04_20220413_095737.json'}\n",
            "{'id': 61, 'source': 'dataset', 'path': '/content/drive/MyDrive/Colab Notebooks/WorkspaceTesis/data/Train/SH04_20220413_095737.jpg', 'annotation': '/content/drive/MyDrive/Colab Notebooks/WorkspaceTesis/data/Train/SH04_20220413_095737.json'}\n",
            "{'id': 61, 'source': 'dataset', 'path': '/content/drive/MyDrive/Colab Notebooks/WorkspaceTesis/data/Train/SH04_20220413_095737.jpg', 'annotation': '/content/drive/MyDrive/Colab Notebooks/WorkspaceTesis/data/Train/SH04_20220413_095737.json'}\n",
            "{'id': 61, 'source': 'dataset', 'path': '/content/drive/MyDrive/Colab Notebooks/WorkspaceTesis/data/Train/SH04_20220413_095737.jpg', 'annotation': '/content/drive/MyDrive/Colab Notebooks/WorkspaceTesis/data/Train/SH04_20220413_095737.json'}\n",
            "{'id': 61, 'source': 'dataset', 'path': '/content/drive/MyDrive/Colab Notebooks/WorkspaceTesis/data/Train/SH04_20220413_095737.jpg', 'annotation': '/content/drive/MyDrive/Colab Notebooks/WorkspaceTesis/data/Train/SH04_20220413_095737.json'}\n",
            "{'id': 61, 'source': 'dataset', 'path': '/content/drive/MyDrive/Colab Notebooks/WorkspaceTesis/data/Train/SH04_20220413_095737.jpg', 'annotation': '/content/drive/MyDrive/Colab Notebooks/WorkspaceTesis/data/Train/SH04_20220413_095737.json'}\n",
            "{'id': 61, 'source': 'dataset', 'path': '/content/drive/MyDrive/Colab Notebooks/WorkspaceTesis/data/Train/SH04_20220413_095737.jpg', 'annotation': '/content/drive/MyDrive/Colab Notebooks/WorkspaceTesis/data/Train/SH04_20220413_095737.json'}\n"
          ]
        },
        {
          "metadata": {
            "tags": null
          },
          "name": "stderr",
          "output_type": "stream",
          "text": [
            "/usr/local/lib/python3.10/dist-packages/imgaug/augmenters/base.py:49: SuspiciousSingleImageShapeWarning: You provided a numpy array of shape (1084, 1072, 64) as a single-image augmentation input, which was interpreted as (H, W, C). The last dimension however has a size of >=32, which indicates that you provided a multi-image array with shape (N, H, W) instead. If that is the case, you should use e.g. augmenter(imageS=<your input>) or augment_imageS(<your input>). Otherwise your multi-image input will be interpreted as a single image during augmentation.\n",
            "  ia.warn(\n",
            "/usr/local/lib/python3.10/dist-packages/imgaug/augmenters/base.py:49: SuspiciousSingleImageShapeWarning: You provided a numpy array of shape (1084, 1072, 64) as a single-image augmentation input, which was interpreted as (H, W, C). The last dimension however has a size of >=32, which indicates that you provided a multi-image array with shape (N, H, W) instead. If that is the case, you should use e.g. augmenter(imageS=<your input>) or augment_imageS(<your input>). Otherwise your multi-image input will be interpreted as a single image during augmentation.\n",
            "  ia.warn(\n",
            "/usr/local/lib/python3.10/dist-packages/imgaug/augmenters/base.py:49: SuspiciousSingleImageShapeWarning: You provided a numpy array of shape (1084, 1072, 64) as a single-image augmentation input, which was interpreted as (H, W, C). The last dimension however has a size of >=32, which indicates that you provided a multi-image array with shape (N, H, W) instead. If that is the case, you should use e.g. augmenter(imageS=<your input>) or augment_imageS(<your input>). Otherwise your multi-image input will be interpreted as a single image during augmentation.\n",
            "  ia.warn(\n",
            "/usr/local/lib/python3.10/dist-packages/imgaug/augmenters/base.py:49: SuspiciousSingleImageShapeWarning: You provided a numpy array of shape (1084, 1072, 64) as a single-image augmentation input, which was interpreted as (H, W, C). The last dimension however has a size of >=32, which indicates that you provided a multi-image array with shape (N, H, W) instead. If that is the case, you should use e.g. augmenter(imageS=<your input>) or augment_imageS(<your input>). Otherwise your multi-image input will be interpreted as a single image during augmentation.\n",
            "  ia.warn(\n",
            "/usr/local/lib/python3.10/dist-packages/imgaug/augmenters/base.py:49: SuspiciousSingleImageShapeWarning: You provided a numpy array of shape (1084, 1072, 64) as a single-image augmentation input, which was interpreted as (H, W, C). The last dimension however has a size of >=32, which indicates that you provided a multi-image array with shape (N, H, W) instead. If that is the case, you should use e.g. augmenter(imageS=<your input>) or augment_imageS(<your input>). Otherwise your multi-image input will be interpreted as a single image during augmentation.\n",
            "  ia.warn(\n",
            "/usr/local/lib/python3.10/dist-packages/imgaug/augmenters/base.py:49: SuspiciousSingleImageShapeWarning: You provided a numpy array of shape (1084, 1072, 64) as a single-image augmentation input, which was interpreted as (H, W, C). The last dimension however has a size of >=32, which indicates that you provided a multi-image array with shape (N, H, W) instead. If that is the case, you should use e.g. augmenter(imageS=<your input>) or augment_imageS(<your input>). Otherwise your multi-image input will be interpreted as a single image during augmentation.\n",
            "  ia.warn(\n",
            "/usr/local/lib/python3.10/dist-packages/imgaug/augmenters/base.py:49: SuspiciousSingleImageShapeWarning: You provided a numpy array of shape (1084, 1072, 64) as a single-image augmentation input, which was interpreted as (H, W, C). The last dimension however has a size of >=32, which indicates that you provided a multi-image array with shape (N, H, W) instead. If that is the case, you should use e.g. augmenter(imageS=<your input>) or augment_imageS(<your input>). Otherwise your multi-image input will be interpreted as a single image during augmentation.\n",
            "  ia.warn(\n",
            "/usr/local/lib/python3.10/dist-packages/imgaug/augmenters/base.py:49: SuspiciousSingleImageShapeWarning: You provided a numpy array of shape (1084, 1072, 64) as a single-image augmentation input, which was interpreted as (H, W, C). The last dimension however has a size of >=32, which indicates that you provided a multi-image array with shape (N, H, W) instead. If that is the case, you should use e.g. augmenter(imageS=<your input>) or augment_imageS(<your input>). Otherwise your multi-image input will be interpreted as a single image during augmentation.\n",
            "  ia.warn(\n"
          ]
        },
        {
          "metadata": {
            "tags": null
          },
          "name": "stdout",
          "output_type": "stream",
          "text": [
            "{'id': 41, 'source': 'dataset', 'path': '/content/drive/MyDrive/Colab Notebooks/WorkspaceTesis/data/Train/SH04_20220414_122352.jpg', 'annotation': '/content/drive/MyDrive/Colab Notebooks/WorkspaceTesis/data/Train/SH04_20220414_122352.json'}\n",
            " 7/10 [====================>.........] - ETA: 15s - batch: 3.0000 - size: 2.0000 - loss: 2.5242 - rpn_class_loss: 0.3541 - rpn_bbox_loss: 0.4008 - mrcnn_class_loss: 0.4526 - mrcnn_bbox_loss: 0.6906 - mrcnn_mask_loss: 0.6261{'id': 41, 'source': 'dataset', 'path': '/content/drive/MyDrive/Colab Notebooks/WorkspaceTesis/data/Train/SH04_20220414_122352.jpg', 'annotation': '/content/drive/MyDrive/Colab Notebooks/WorkspaceTesis/data/Train/SH04_20220414_122352.json'}\n",
            "{'id': 41, 'source': 'dataset', 'path': '/content/drive/MyDrive/Colab Notebooks/WorkspaceTesis/data/Train/SH04_20220414_122352.jpg', 'annotation': '/content/drive/MyDrive/Colab Notebooks/WorkspaceTesis/data/Train/SH04_20220414_122352.json'}\n",
            "{'id': 41, 'source': 'dataset', 'path': '/content/drive/MyDrive/Colab Notebooks/WorkspaceTesis/data/Train/SH04_20220414_122352.jpg', 'annotation': '/content/drive/MyDrive/Colab Notebooks/WorkspaceTesis/data/Train/SH04_20220414_122352.json'}\n",
            "{'id': 41, 'source': 'dataset', 'path': '/content/drive/MyDrive/Colab Notebooks/WorkspaceTesis/data/Train/SH04_20220414_122352.jpg', 'annotation': '/content/drive/MyDrive/Colab Notebooks/WorkspaceTesis/data/Train/SH04_20220414_122352.json'}\n",
            "{'id': 41, 'source': 'dataset', 'path': '/content/drive/MyDrive/Colab Notebooks/WorkspaceTesis/data/Train/SH04_20220414_122352.jpg', 'annotation': '/content/drive/MyDrive/Colab Notebooks/WorkspaceTesis/data/Train/SH04_20220414_122352.json'}\n",
            " 8/10 [=======================>......] - ETA: 9s - batch: 3.5000 - size: 2.0000 - loss: 2.5514 - rpn_class_loss: 0.3611 - rpn_bbox_loss: 0.4074 - mrcnn_class_loss: 0.4802 - mrcnn_bbox_loss: 0.6823 - mrcnn_mask_loss: 0.6204 {'id': 41, 'source': 'dataset', 'path': '/content/drive/MyDrive/Colab Notebooks/WorkspaceTesis/data/Train/SH04_20220414_122352.jpg', 'annotation': '/content/drive/MyDrive/Colab Notebooks/WorkspaceTesis/data/Train/SH04_20220414_122352.json'}\n",
            "{'id': 41, 'source': 'dataset', 'path': '/content/drive/MyDrive/Colab Notebooks/WorkspaceTesis/data/Train/SH04_20220414_122352.jpg', 'annotation': '/content/drive/MyDrive/Colab Notebooks/WorkspaceTesis/data/Train/SH04_20220414_122352.json'}\n",
            "{'id': 49, 'source': 'dataset', 'path': '/content/drive/MyDrive/Colab Notebooks/WorkspaceTesis/data/Train/SH04_20220414_121752.jpg', 'annotation': '/content/drive/MyDrive/Colab Notebooks/WorkspaceTesis/data/Train/SH04_20220414_121752.json'}\n",
            "10/10 [==============================] - ETA: 0s - batch: 4.5000 - size: 2.0000 - loss: 2.5817 - rpn_class_loss: 0.3622 - rpn_bbox_loss: 0.4183 - mrcnn_class_loss: 0.5105 - mrcnn_bbox_loss: 0.6665 - mrcnn_mask_loss: 0.6241{'id': 49, 'source': 'dataset', 'path': '/content/drive/MyDrive/Colab Notebooks/WorkspaceTesis/data/Train/SH04_20220414_121752.jpg', 'annotation': '/content/drive/MyDrive/Colab Notebooks/WorkspaceTesis/data/Train/SH04_20220414_121752.json'}\n",
            "{'id': 49, 'source': 'dataset', 'path': '/content/drive/MyDrive/Colab Notebooks/WorkspaceTesis/data/Train/SH04_20220414_121752.jpg', 'annotation': '/content/drive/MyDrive/Colab Notebooks/WorkspaceTesis/data/Train/SH04_20220414_121752.json'}\n",
            "{'id': 49, 'source': 'dataset', 'path': '/content/drive/MyDrive/Colab Notebooks/WorkspaceTesis/data/Train/SH04_20220414_121752.jpg', 'annotation': '/content/drive/MyDrive/Colab Notebooks/WorkspaceTesis/data/Train/SH04_20220414_121752.json'}\n",
            "{'id': 49, 'source': 'dataset', 'path': '/content/drive/MyDrive/Colab Notebooks/WorkspaceTesis/data/Train/SH04_20220414_121752.jpg', 'annotation': '/content/drive/MyDrive/Colab Notebooks/WorkspaceTesis/data/Train/SH04_20220414_121752.json'}\n",
            "{'id': 1, 'source': 'dataset', 'path': '/content/drive/MyDrive/Colab Notebooks/WorkspaceTesis/data/Validation/SH04_20220414_112435.jpg', 'annotation': '/content/drive/MyDrive/Colab Notebooks/WorkspaceTesis/data/Validation/SH04_20220414_112435.json'}\n",
            "{'id': 49, 'source': 'dataset', 'path': '/content/drive/MyDrive/Colab Notebooks/WorkspaceTesis/data/Train/SH04_20220414_121752.jpg', 'annotation': '/content/drive/MyDrive/Colab Notebooks/WorkspaceTesis/data/Train/SH04_20220414_121752.json'}\n",
            "{'id': 49, 'source': 'dataset', 'path': '/content/drive/MyDrive/Colab Notebooks/WorkspaceTesis/data/Train/SH04_20220414_121752.jpg', 'annotation': '/content/drive/MyDrive/Colab Notebooks/WorkspaceTesis/data/Train/SH04_20220414_121752.json'}\n",
            "{'id': 49, 'source': 'dataset', 'path': '/content/drive/MyDrive/Colab Notebooks/WorkspaceTesis/data/Train/SH04_20220414_121752.jpg', 'annotation': '/content/drive/MyDrive/Colab Notebooks/WorkspaceTesis/data/Train/SH04_20220414_121752.json'}\n"
          ]
        },
        {
          "metadata": {
            "tags": null
          },
          "name": "stderr",
          "output_type": "stream",
          "text": [
            "/usr/local/lib/python3.10/dist-packages/imgaug/augmenters/base.py:49: SuspiciousSingleImageShapeWarning: You provided a numpy array of shape (1084, 1072, 86) as a single-image augmentation input, which was interpreted as (H, W, C). The last dimension however has a size of >=32, which indicates that you provided a multi-image array with shape (N, H, W) instead. If that is the case, you should use e.g. augmenter(imageS=<your input>) or augment_imageS(<your input>). Otherwise your multi-image input will be interpreted as a single image during augmentation.\n",
            "  ia.warn(\n",
            "/usr/local/lib/python3.10/dist-packages/imgaug/augmenters/base.py:49: SuspiciousSingleImageShapeWarning: You provided a numpy array of shape (1084, 1072, 86) as a single-image augmentation input, which was interpreted as (H, W, C). The last dimension however has a size of >=32, which indicates that you provided a multi-image array with shape (N, H, W) instead. If that is the case, you should use e.g. augmenter(imageS=<your input>) or augment_imageS(<your input>). Otherwise your multi-image input will be interpreted as a single image during augmentation.\n",
            "  ia.warn(\n",
            "/usr/local/lib/python3.10/dist-packages/imgaug/augmenters/base.py:49: SuspiciousSingleImageShapeWarning: You provided a numpy array of shape (1084, 1072, 86) as a single-image augmentation input, which was interpreted as (H, W, C). The last dimension however has a size of >=32, which indicates that you provided a multi-image array with shape (N, H, W) instead. If that is the case, you should use e.g. augmenter(imageS=<your input>) or augment_imageS(<your input>). Otherwise your multi-image input will be interpreted as a single image during augmentation.\n",
            "  ia.warn(\n",
            "/usr/local/lib/python3.10/dist-packages/imgaug/augmenters/base.py:49: SuspiciousSingleImageShapeWarning: You provided a numpy array of shape (1084, 1072, 86) as a single-image augmentation input, which was interpreted as (H, W, C). The last dimension however has a size of >=32, which indicates that you provided a multi-image array with shape (N, H, W) instead. If that is the case, you should use e.g. augmenter(imageS=<your input>) or augment_imageS(<your input>). Otherwise your multi-image input will be interpreted as a single image during augmentation.\n",
            "  ia.warn(\n",
            "/usr/local/lib/python3.10/dist-packages/imgaug/augmenters/base.py:49: SuspiciousSingleImageShapeWarning: You provided a numpy array of shape (1084, 1072, 86) as a single-image augmentation input, which was interpreted as (H, W, C). The last dimension however has a size of >=32, which indicates that you provided a multi-image array with shape (N, H, W) instead. If that is the case, you should use e.g. augmenter(imageS=<your input>) or augment_imageS(<your input>). Otherwise your multi-image input will be interpreted as a single image during augmentation.\n",
            "  ia.warn(\n",
            "/usr/local/lib/python3.10/dist-packages/imgaug/augmenters/base.py:49: SuspiciousSingleImageShapeWarning: You provided a numpy array of shape (1084, 1072, 86) as a single-image augmentation input, which was interpreted as (H, W, C). The last dimension however has a size of >=32, which indicates that you provided a multi-image array with shape (N, H, W) instead. If that is the case, you should use e.g. augmenter(imageS=<your input>) or augment_imageS(<your input>). Otherwise your multi-image input will be interpreted as a single image during augmentation.\n",
            "  ia.warn(\n",
            "/usr/local/lib/python3.10/dist-packages/imgaug/augmenters/base.py:49: SuspiciousSingleImageShapeWarning: You provided a numpy array of shape (1084, 1072, 86) as a single-image augmentation input, which was interpreted as (H, W, C). The last dimension however has a size of >=32, which indicates that you provided a multi-image array with shape (N, H, W) instead. If that is the case, you should use e.g. augmenter(imageS=<your input>) or augment_imageS(<your input>). Otherwise your multi-image input will be interpreted as a single image during augmentation.\n",
            "  ia.warn(\n",
            "/usr/local/lib/python3.10/dist-packages/imgaug/augmenters/base.py:49: SuspiciousSingleImageShapeWarning: You provided a numpy array of shape (1084, 1072, 86) as a single-image augmentation input, which was interpreted as (H, W, C). The last dimension however has a size of >=32, which indicates that you provided a multi-image array with shape (N, H, W) instead. If that is the case, you should use e.g. augmenter(imageS=<your input>) or augment_imageS(<your input>). Otherwise your multi-image input will be interpreted as a single image during augmentation.\n",
            "  ia.warn(\n"
          ]
        },
        {
          "output_type": "stream",
          "name": "stdout",
          "text": [
            "{'id': 1, 'source': 'dataset', 'path': '/content/drive/MyDrive/Colab Notebooks/WorkspaceTesis/data/Validation/SH04_20220414_112435.jpg', 'annotation': '/content/drive/MyDrive/Colab Notebooks/WorkspaceTesis/data/Validation/SH04_20220414_112435.json'}\n",
            "{'id': 1, 'source': 'dataset', 'path': '/content/drive/MyDrive/Colab Notebooks/WorkspaceTesis/data/Validation/SH04_20220414_112435.jpg', 'annotation': '/content/drive/MyDrive/Colab Notebooks/WorkspaceTesis/data/Validation/SH04_20220414_112435.json'}\n",
            "{'id': 1, 'source': 'dataset', 'path': '/content/drive/MyDrive/Colab Notebooks/WorkspaceTesis/data/Validation/SH04_20220414_112435.jpg', 'annotation': '/content/drive/MyDrive/Colab Notebooks/WorkspaceTesis/data/Validation/SH04_20220414_112435.json'}\n",
            "{'id': 1, 'source': 'dataset', 'path': '/content/drive/MyDrive/Colab Notebooks/WorkspaceTesis/data/Validation/SH04_20220414_112435.jpg', 'annotation': '/content/drive/MyDrive/Colab Notebooks/WorkspaceTesis/data/Validation/SH04_20220414_112435.json'}\n",
            "{'id': 1, 'source': 'dataset', 'path': '/content/drive/MyDrive/Colab Notebooks/WorkspaceTesis/data/Validation/SH04_20220414_112435.jpg', 'annotation': '/content/drive/MyDrive/Colab Notebooks/WorkspaceTesis/data/Validation/SH04_20220414_112435.json'}\n",
            "{'id': 1, 'source': 'dataset', 'path': '/content/drive/MyDrive/Colab Notebooks/WorkspaceTesis/data/Validation/SH04_20220414_112435.jpg', 'annotation': '/content/drive/MyDrive/Colab Notebooks/WorkspaceTesis/data/Validation/SH04_20220414_112435.json'}\n",
            "{'id': 1, 'source': 'dataset', 'path': '/content/drive/MyDrive/Colab Notebooks/WorkspaceTesis/data/Validation/SH04_20220414_112435.jpg', 'annotation': '/content/drive/MyDrive/Colab Notebooks/WorkspaceTesis/data/Validation/SH04_20220414_112435.json'}\n",
            "{'id': 1, 'source': 'dataset', 'path': '/content/drive/MyDrive/Colab Notebooks/WorkspaceTesis/data/Validation/SH04_20220414_112435.jpg', 'annotation': '/content/drive/MyDrive/Colab Notebooks/WorkspaceTesis/data/Validation/SH04_20220414_112435.json'}\n",
            "{'id': 1, 'source': 'dataset', 'path': '/content/drive/MyDrive/Colab Notebooks/WorkspaceTesis/data/Validation/SH04_20220414_112435.jpg', 'annotation': '/content/drive/MyDrive/Colab Notebooks/WorkspaceTesis/data/Validation/SH04_20220414_112435.json'}\n",
            "{'id': 1, 'source': 'dataset', 'path': '/content/drive/MyDrive/Colab Notebooks/WorkspaceTesis/data/Validation/SH04_20220414_112435.jpg', 'annotation': '/content/drive/MyDrive/Colab Notebooks/WorkspaceTesis/data/Validation/SH04_20220414_112435.json'}\n",
            "{'id': 1, 'source': 'dataset', 'path': '/content/drive/MyDrive/Colab Notebooks/WorkspaceTesis/data/Validation/SH04_20220414_112435.jpg', 'annotation': '/content/drive/MyDrive/Colab Notebooks/WorkspaceTesis/data/Validation/SH04_20220414_112435.json'}\n",
            "{'id': 1, 'source': 'dataset', 'path': '/content/drive/MyDrive/Colab Notebooks/WorkspaceTesis/data/Validation/SH04_20220414_112435.jpg', 'annotation': '/content/drive/MyDrive/Colab Notebooks/WorkspaceTesis/data/Validation/SH04_20220414_112435.json'}\n",
            "{'id': 1, 'source': 'dataset', 'path': '/content/drive/MyDrive/Colab Notebooks/WorkspaceTesis/data/Validation/SH04_20220414_112435.jpg', 'annotation': '/content/drive/MyDrive/Colab Notebooks/WorkspaceTesis/data/Validation/SH04_20220414_112435.json'}\n",
            "{'id': 1, 'source': 'dataset', 'path': '/content/drive/MyDrive/Colab Notebooks/WorkspaceTesis/data/Validation/SH04_20220414_112435.jpg', 'annotation': '/content/drive/MyDrive/Colab Notebooks/WorkspaceTesis/data/Validation/SH04_20220414_112435.json'}\n",
            "{'id': 1, 'source': 'dataset', 'path': '/content/drive/MyDrive/Colab Notebooks/WorkspaceTesis/data/Validation/SH04_20220414_112435.jpg', 'annotation': '/content/drive/MyDrive/Colab Notebooks/WorkspaceTesis/data/Validation/SH04_20220414_112435.json'}\n",
            "{'id': 1, 'source': 'dataset', 'path': '/content/drive/MyDrive/Colab Notebooks/WorkspaceTesis/data/Validation/SH04_20220414_112435.jpg', 'annotation': '/content/drive/MyDrive/Colab Notebooks/WorkspaceTesis/data/Validation/SH04_20220414_112435.json'}\n",
            "{'id': 1, 'source': 'dataset', 'path': '/content/drive/MyDrive/Colab Notebooks/WorkspaceTesis/data/Validation/SH04_20220414_112435.jpg', 'annotation': '/content/drive/MyDrive/Colab Notebooks/WorkspaceTesis/data/Validation/SH04_20220414_112435.json'}\n",
            "{'id': 1, 'source': 'dataset', 'path': '/content/drive/MyDrive/Colab Notebooks/WorkspaceTesis/data/Validation/SH04_20220414_112435.jpg', 'annotation': '/content/drive/MyDrive/Colab Notebooks/WorkspaceTesis/data/Validation/SH04_20220414_112435.json'}\n",
            "{'id': 1, 'source': 'dataset', 'path': '/content/drive/MyDrive/Colab Notebooks/WorkspaceTesis/data/Validation/SH04_20220414_112435.jpg', 'annotation': '/content/drive/MyDrive/Colab Notebooks/WorkspaceTesis/data/Validation/SH04_20220414_112435.json'}\n",
            "{'id': 1, 'source': 'dataset', 'path': '/content/drive/MyDrive/Colab Notebooks/WorkspaceTesis/data/Validation/SH04_20220414_112435.jpg', 'annotation': '/content/drive/MyDrive/Colab Notebooks/WorkspaceTesis/data/Validation/SH04_20220414_112435.json'}\n",
            "{'id': 1, 'source': 'dataset', 'path': '/content/drive/MyDrive/Colab Notebooks/WorkspaceTesis/data/Validation/SH04_20220414_112435.jpg', 'annotation': '/content/drive/MyDrive/Colab Notebooks/WorkspaceTesis/data/Validation/SH04_20220414_112435.json'}\n",
            "{'id': 1, 'source': 'dataset', 'path': '/content/drive/MyDrive/Colab Notebooks/WorkspaceTesis/data/Validation/SH04_20220414_112435.jpg', 'annotation': '/content/drive/MyDrive/Colab Notebooks/WorkspaceTesis/data/Validation/SH04_20220414_112435.json'}\n",
            "{'id': 1, 'source': 'dataset', 'path': '/content/drive/MyDrive/Colab Notebooks/WorkspaceTesis/data/Validation/SH04_20220414_112435.jpg', 'annotation': '/content/drive/MyDrive/Colab Notebooks/WorkspaceTesis/data/Validation/SH04_20220414_112435.json'}\n",
            "{'id': 1, 'source': 'dataset', 'path': '/content/drive/MyDrive/Colab Notebooks/WorkspaceTesis/data/Validation/SH04_20220414_112435.jpg', 'annotation': '/content/drive/MyDrive/Colab Notebooks/WorkspaceTesis/data/Validation/SH04_20220414_112435.json'}\n",
            "{'id': 1, 'source': 'dataset', 'path': '/content/drive/MyDrive/Colab Notebooks/WorkspaceTesis/data/Validation/SH04_20220414_112435.jpg', 'annotation': '/content/drive/MyDrive/Colab Notebooks/WorkspaceTesis/data/Validation/SH04_20220414_112435.json'}\n",
            "{'id': 1, 'source': 'dataset', 'path': '/content/drive/MyDrive/Colab Notebooks/WorkspaceTesis/data/Validation/SH04_20220414_112435.jpg', 'annotation': '/content/drive/MyDrive/Colab Notebooks/WorkspaceTesis/data/Validation/SH04_20220414_112435.json'}\n",
            "{'id': 1, 'source': 'dataset', 'path': '/content/drive/MyDrive/Colab Notebooks/WorkspaceTesis/data/Validation/SH04_20220414_112435.jpg', 'annotation': '/content/drive/MyDrive/Colab Notebooks/WorkspaceTesis/data/Validation/SH04_20220414_112435.json'}\n",
            "{'id': 1, 'source': 'dataset', 'path': '/content/drive/MyDrive/Colab Notebooks/WorkspaceTesis/data/Validation/SH04_20220414_112435.jpg', 'annotation': '/content/drive/MyDrive/Colab Notebooks/WorkspaceTesis/data/Validation/SH04_20220414_112435.json'}\n",
            "{'id': 1, 'source': 'dataset', 'path': '/content/drive/MyDrive/Colab Notebooks/WorkspaceTesis/data/Validation/SH04_20220414_112435.jpg', 'annotation': '/content/drive/MyDrive/Colab Notebooks/WorkspaceTesis/data/Validation/SH04_20220414_112435.json'}\n",
            "{'id': 1, 'source': 'dataset', 'path': '/content/drive/MyDrive/Colab Notebooks/WorkspaceTesis/data/Validation/SH04_20220414_112435.jpg', 'annotation': '/content/drive/MyDrive/Colab Notebooks/WorkspaceTesis/data/Validation/SH04_20220414_112435.json'}\n",
            "{'id': 1, 'source': 'dataset', 'path': '/content/drive/MyDrive/Colab Notebooks/WorkspaceTesis/data/Validation/SH04_20220414_112435.jpg', 'annotation': '/content/drive/MyDrive/Colab Notebooks/WorkspaceTesis/data/Validation/SH04_20220414_112435.json'}\n"
          ]
        }
      ],
      "source": [
        "model.train(\n",
        "      dataset_train\n",
        "    , dataset_val\n",
        "    , learning_rate=config.LEARNING_RATE\n",
        "    , epochs=6\n",
        "    , layers='heads'\n",
        "    , augmentation = Rock_augmentation\n",
        "    )\n"
      ]
    },
    {
      "cell_type": "code",
      "execution_count": null,
      "metadata": {
        "id": "df6LEx9PxoDZ"
      },
      "outputs": [],
      "source": [
        "model.train(dataset_train , dataset_val , learning_rate=config.LEARNING_RATE / 10,epochs=6, layers=\"all\")"
      ]
    },
    {
      "cell_type": "code",
      "execution_count": null,
      "metadata": {
        "id": "4oI0Chmjx2y9"
      },
      "outputs": [],
      "source": [
        "class InferenceConfig(Rocks):\n",
        "  GPU_COUNT = 1\n",
        "  IMAGES_PER_GPU = 2\n"
      ]
    },
    {
      "cell_type": "code",
      "execution_count": null,
      "metadata": {
        "id": "njm6lj5Ex98a"
      },
      "outputs": [],
      "source": [
        "inference_config = InferenceConfig()\n",
        "model = modellib.MaskRCNN(mode=\"inference\", config=inference_config ,model_dir=MODEL_DIR)"
      ]
    },
    {
      "cell_type": "code",
      "execution_count": null,
      "metadata": {
        "id": "O4YrNZZVzJSB"
      },
      "outputs": [],
      "source": [
        "model_path = model.find_last()\n",
        "print(\"Loading weights from \", model_path)\n",
        "model.load_weights(model_path , by_name=True)"
      ]
    },
    {
      "cell_type": "code",
      "execution_count": null,
      "metadata": {
        "id": "y3ECKT0WzTBx"
      },
      "outputs": [],
      "source": [
        "def get_ax(rows=1, cols=1, size=2):\n",
        "  _, ax = plt.subplots(rows, cols, figsize=(size*cols, size*rows))\n",
        "  return ax\n",
        "\n",
        "dataset_val.image_ids"
      ]
    },
    {
      "cell_type": "code",
      "execution_count": null,
      "metadata": {
        "id": "wB5P4oHszeOF"
      },
      "outputs": [],
      "source": [
        "image_id=1\n",
        "original_image , image_meta , gt_class_id ,gt_bbox , gt_mask = modellib.load_image_gt(dataset_val , inference_config , image_id )\n",
        "#original_image , image_meta , gt_class_id ,gt_bbox , gt_mask = modellib.load_image_gt(dataset_val , inference_config , image_id, use_mini_mask=False)\n",
        "\n",
        "\n",
        "log(\"original_image\", original_image)\n",
        "log(\"image_meta\", image_meta)\n",
        "log(\"gt_class_id\", gt_class_id)\n",
        "log(\"gt_bbox\", gt_bbox)\n",
        "log(\"gt_mask\", gt_mask)"
      ]
    },
    {
      "cell_type": "code",
      "execution_count": null,
      "metadata": {
        "id": "1u_xIqRg0Dyc"
      },
      "outputs": [],
      "source": [
        "visualize.display_instances(original_image, gt_bbox, gt_mask, gt_class_id, dataset_val.class_names, figsize=(8, 8))\n",
        "print(gt_class_id.shape)"
      ]
    },
    {
      "cell_type": "code",
      "execution_count": null,
      "metadata": {
        "id": "HOVBDOzO0eWf"
      },
      "outputs": [],
      "source": [
        "results = model.detect([original_image], verbose=1)"
      ]
    },
    {
      "cell_type": "code",
      "execution_count": null,
      "metadata": {
        "id": "wYiZiY-50hpi"
      },
      "outputs": [],
      "source": [
        "r = results[0]\n",
        "visualize.display_instances(original_image , r['rois'], r['masks'], r['class_ids'], dataset_val.class_names, r['scores'], ax=get_ax())\n",
        "print(r['class_ids'].shape)"
      ]
    },
    {
      "cell_type": "code",
      "execution_count": null,
      "metadata": {
        "id": "BkWNuRHq1eD6"
      },
      "outputs": [],
      "source": [
        "from mrcnn import utils\n",
        "from mrcnn import utils_confusion\n",
        "import pandas as pd\n",
        "import numpy as np\n",
        "import os\n",
        "gt_tot = np.array([])\n",
        "pred_tot = np.array([])\n",
        "#mAP list\n",
        "mAP_ = []"
      ]
    },
    {
      "cell_type": "code",
      "execution_count": null,
      "metadata": {
        "id": "avLW3HFA1qPO"
      },
      "outputs": [],
      "source": [
        "for image_id in dataset_test.image_ids:\n",
        "  image, image_meta, gt_class_id, gt_bbox, gt_mask =\\\n",
        "   modellib.load_image_gt(dataset_test, config, image_id, use_mini_mask=False)\n",
        "  info=dataset_test.image_info[image_id]\n",
        "\n",
        "  results = model.detect([image], verbose=1)\n",
        "  r = results[0]\n",
        "\n",
        "  gt, pred = utils_confusion.gt_pred_lists(gt_class_id,gt_bbox, r['class_ids'],  r['rois'])\n",
        "\n",
        "  gt_tot = np.append(gt_tot, gt_class_id)\n",
        "  pred_tot=np.append(pred_tot, pred)\n",
        "\n",
        "  AP_, precision_, recall_, overlap_ = utils.compute_ap(gt_bbox, gt_class_id, gt_mask,r['rois'], r['class_ids'], r['scores'], r['masks'])\n",
        "\n",
        "  print(\"the actual len of the gt vect is : \", len(gt_tot))\n",
        "  print(\"the actual len of the pred vect is : \", len(pred_tot))\n",
        "\n",
        "  mAP_.append(AP_)"
      ]
    },
    {
      "cell_type": "code",
      "execution_count": null,
      "metadata": {
        "id": "mOw3cagK4i-0"
      },
      "outputs": [],
      "source": [
        "gt_tot=gt_tot.astype(int)\n",
        "pred_tot=pred_tot.astype(int)\n",
        "save_dir = \"output\"\n",
        "gt_pred_tot_json = {\"gt_tot\" : gt_tot, \"pred_tot\" : pred_tot}\n",
        "df = pd.DataFrame(gt_pred_tot_json)\n",
        "if not os.path.exists(save_dir):\n",
        "  os.makedirs(save_dir)\n",
        "df.to_json(os.path.join(save_dir ,\"gt_pred_test.json\"))"
      ]
    },
    {
      "cell_type": "code",
      "execution_count": null,
      "metadata": {
        "id": "8ZcV59KW5ALG"
      },
      "outputs": [],
      "source": [
        "print(\"ground truth list : \",gt_tot)\n",
        "print(\"predicted list : \",pred_tot)\n",
        "tp,fp,fn=utils_confusion.plot_confusion_matrix_from_data(gt_tot,pred_tot,fz=18, figsize=(20,20), lw=0.5)"
      ]
    },
    {
      "cell_type": "code",
      "execution_count": null,
      "metadata": {
        "id": "XWeJM77z5LDB"
      },
      "outputs": [],
      "source": [
        "#Se extraen los datos de p r d i d a s y se muestran con el tensorflow\n",
        "import tensorflow.compat.v1 as tf\n",
        "%load_ext tensorboard\n",
        "sess = tf.Session()\n",
        "path_logs = \"/content/drive/MyDrive/Colab Notebooks/WorkspaceTesis/\"\n",
        "file_writer = tf.summary.FileWriter( path_logs , sess.graph )\n",
        "%tensorboard --logdir /content/drive/MyDrive/Colab Notebooks/WorkspaceTesis/"
      ]
    },
    {
      "cell_type": "code",
      "execution_count": null,
      "metadata": {
        "id": "3shbgf7I5Zs7"
      },
      "outputs": [],
      "source": []
    }
  ],
  "metadata": {
    "accelerator": "GPU",
    "colab": {
      "machine_shape": "hm",
      "provenance": [],
      "authorship_tag": "ABX9TyOb5cU42MAbG3El38XgyzKa",
      "include_colab_link": true
    },
    "kernelspec": {
      "display_name": "Python 3",
      "name": "python3"
    },
    "language_info": {
      "name": "python"
    }
  },
  "nbformat": 4,
  "nbformat_minor": 0
}